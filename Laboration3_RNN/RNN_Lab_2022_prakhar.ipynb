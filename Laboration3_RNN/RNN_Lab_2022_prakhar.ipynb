{
 "cells": [
  {
   "cell_type": "markdown",
   "metadata": {},
   "source": [
    "# Part-of-Speech Tagging with Recurrent Neural Networks"
   ]
  },
  {
   "cell_type": "markdown",
   "metadata": {},
   "source": [
    "Your task in this assignment is to implement a simple part-of-speech tagger based on recurrent neural networks."
   ]
  },
  {
   "cell_type": "markdown",
   "metadata": {},
   "source": [
    "## Get a graphics card\n",
    "\n",
    "Skip this part if you run on a CPU"
   ]
  },
  {
   "cell_type": "code",
   "execution_count": 1,
   "metadata": {},
   "outputs": [
    {
     "ename": "IndexError",
     "evalue": "list index out of range",
     "output_type": "error",
     "traceback": [
      "\u001b[1;31m---------------------------------------------------------------------------\u001b[0m",
      "\u001b[1;31mIndexError\u001b[0m                                Traceback (most recent call last)",
      "Input \u001b[1;32mIn [1]\u001b[0m, in \u001b[0;36m<cell line: 17>\u001b[1;34m()\u001b[0m\n\u001b[0;32m     15\u001b[0m \u001b[38;5;66;03m# Allow growth of GPU memory, otherwise it will always look like all the memory is being used\u001b[39;00m\n\u001b[0;32m     16\u001b[0m physical_devices \u001b[38;5;241m=\u001b[39m tf\u001b[38;5;241m.\u001b[39mconfig\u001b[38;5;241m.\u001b[39mexperimental\u001b[38;5;241m.\u001b[39mlist_physical_devices(\u001b[38;5;124m'\u001b[39m\u001b[38;5;124mGPU\u001b[39m\u001b[38;5;124m'\u001b[39m)\n\u001b[1;32m---> 17\u001b[0m tf\u001b[38;5;241m.\u001b[39mconfig\u001b[38;5;241m.\u001b[39mexperimental\u001b[38;5;241m.\u001b[39mset_memory_growth(\u001b[43mphysical_devices\u001b[49m\u001b[43m[\u001b[49m\u001b[38;5;241;43m0\u001b[39;49m\u001b[43m]\u001b[49m, \u001b[38;5;28;01mTrue\u001b[39;00m)\n",
      "\u001b[1;31mIndexError\u001b[0m: list index out of range"
     ]
    }
   ],
   "source": [
    "import os\n",
    "import warnings\n",
    "\n",
    "# Ignore FutureWarning from numpy\n",
    "warnings.simplefilter(action='ignore', category=FutureWarning)\n",
    "\n",
    "import keras.backend as K\n",
    "import tensorflow as tf\n",
    "\n",
    "os.environ[\"CUDA_DEVICE_ORDER\"]=\"PCI_BUS_ID\";\n",
    " \n",
    "# The GPU id to use, usually either \"0\" or \"1\";\n",
    "os.environ[\"CUDA_VISIBLE_DEVICES\"]=\"0\";\n",
    "\n",
    "# Allow growth of GPU memory, otherwise it will always look like all the memory is being used\n",
    "physical_devices = tf.config.experimental.list_physical_devices('GPU')\n",
    "tf.config.experimental.set_memory_growth(physical_devices[0], True) "
   ]
  },
  {
   "cell_type": "markdown",
   "metadata": {},
   "source": [
    "## Problem specification"
   ]
  },
  {
   "cell_type": "markdown",
   "metadata": {},
   "source": [
    "Your task in this assignment is\n",
    "\n",
    "1. to build a part-of-speech tagger based on a recurrent neural network architecture\n",
    "2. to train this tagger on the provided training data and identify a good model\n",
    "2. to evaluate the performance of this model on the provided test data\n",
    "\n",
    "To identify a good model, you can use the provided development (validation) data."
   ]
  },
  {
   "cell_type": "markdown",
   "metadata": {},
   "source": [
    "## Part-of-speech tagging"
   ]
  },
  {
   "cell_type": "markdown",
   "metadata": {},
   "source": [
    "Part-of-speech (POS) tagging is the task of labelling words (tokens) with [parts of speech](https://en.wikipedia.org/wiki/Part_of_speech). To give an example, consider the  sentence *Parker hates parsnips*. In this sentence, the word *Parker* should be labelled as a proper noun (a noun that is the name of a person), *hates* should be labelled as a verb, and *parsnips* should be labelled as a (common) noun. Part-of-speech tagging is an essential ingredient of many state-of-the-art natural language understanding systems.\n",
    "\n",
    "Part-of-speech tagging can be cast as a supervised machine learning problem where the gold-standard data consists of sentences whose words have been manually annotated with parts of speech. For the present assignment you will be using a corpus built over the source material of the [English Web Treebank](https://catalog.ldc.upenn.edu/LDC2012T13), consisting of approximately 16,000&nbsp;sentences with 254,000&nbsp;tokens. The corpus has been released by the [Universal Dependencies Project](http://universaldependencies.org).\n",
    "\n",
    "To make it easier to compare systems, the gold-standard data has been split into three parts: training, development (validation), and test. The following cell provides a function that can be used to load the data."
   ]
  },
  {
   "cell_type": "code",
   "execution_count": 2,
   "metadata": {},
   "outputs": [],
   "source": [
    "def read_data(path):\n",
    "    with open(path, encoding='utf-8') as fp:\n",
    "        result = []\n",
    "        for line in fp:\n",
    "            line = line.rstrip()\n",
    "            if len(line) == 0:\n",
    "                yield result\n",
    "                result = []\n",
    "            elif not line.startswith('#'):\n",
    "                columns = line.split()\n",
    "                if columns[0].isdigit():\n",
    "                    result.append((columns[1], columns[3]))"
   ]
  },
  {
   "cell_type": "markdown",
   "metadata": {},
   "source": [
    "The next cell loads the data:"
   ]
  },
  {
   "cell_type": "code",
   "execution_count": 3,
   "metadata": {},
   "outputs": [
    {
     "name": "stdout",
     "output_type": "stream",
     "text": [
      "Number of sentences in the training data: 12543\n",
      "Number of sentences in the development data: 2002\n",
      "Number of sentences in the test data: 2077\n"
     ]
    }
   ],
   "source": [
    "train_data = list(read_data('en_ewt-ud-train.conllu'))\n",
    "print('Number of sentences in the training data: {}'.format(len(train_data)))\n",
    "\n",
    "dev_data = list(read_data('en_ewt-ud-dev.conllu'))\n",
    "print('Number of sentences in the development data: {}'.format(len(dev_data)))\n",
    "\n",
    "test_data = list(read_data('en_ewt-ud-test.conllu'))\n",
    "print('Number of sentences in the test data: {}'.format(len(test_data)))"
   ]
  },
  {
   "cell_type": "markdown",
   "metadata": {},
   "source": [
    "From a Python perspective, each of the data sets is a list of what we shall refer to as *tagged sentences*. A tagged sentence, in turn, is a list of pairs $(w,t)$, where $w$ is a word token and $t$ is the word&rsquo;s POS tag. Here is an example from the training data to show you how this looks like:"
   ]
  },
  {
   "cell_type": "code",
   "execution_count": 4,
   "metadata": {},
   "outputs": [
    {
     "data": {
      "text/plain": [
       "[('There', 'PRON'),\n",
       " ('has', 'AUX'),\n",
       " ('been', 'VERB'),\n",
       " ('talk', 'NOUN'),\n",
       " ('that', 'SCONJ'),\n",
       " ('the', 'DET'),\n",
       " ('night', 'NOUN'),\n",
       " ('curfew', 'NOUN'),\n",
       " ('might', 'AUX'),\n",
       " ('be', 'AUX'),\n",
       " ('implemented', 'VERB'),\n",
       " ('again', 'ADV'),\n",
       " ('.', 'PUNCT')]"
      ]
     },
     "execution_count": 4,
     "metadata": {},
     "output_type": "execute_result"
    }
   ],
   "source": [
    "train_data[42]"
   ]
  },
  {
   "cell_type": "markdown",
   "metadata": {},
   "source": [
    "You will see part-of-speech tags such as `VERB` for verb, `NOUN` for noun, and `ADV` for adverb. If you are interested in learning more about the tag set used in the gold-standard data, you can have a look at the documentation of the [Universal POS tags](http://universaldependencies.org/u/pos/all.html). However, you do not need to understand the meaning of the POS tags to solve this assignment; you can simply treat them as labels drawn from a finite set of alternatives."
   ]
  },
  {
   "cell_type": "markdown",
   "metadata": {},
   "source": [
    "## Network architecture"
   ]
  },
  {
   "attachments": {
    "architecture.png": {
     "image/png": "[encoded data removed]"
    }
   },
   "cell_type": "markdown",
   "metadata": {},
   "source": [
    "The proposed network architecture for your tagger is a sequential model with three layers, illustrated below: an embedding, a bidirectional LSTM, and a softmax layer. The embedding turns word indexes (integers representing words) into fixed-size dense vectors which are then fed into the bidirectional LSTM. The output of the LSTM at each position of the sentence is passed to a softmax layer which predicts the POS tag for the word at that position.\n",
    "\n",
    "![architecture.png](attachment:architecture.png)\n",
    "\n",
    "To implement the network architecture, you will use [Keras](https://keras.io/). Keras comes with an extensive online documentation, and reading the relevant parts of this documentation will be essential when working on this assignment. We suggest to start with the tutorial [Getting started with the Keras Sequential model](https://keras.io/getting-started/sequential-model-guide/). After that, you should have a look at some of the examples mentioned in that tutorial, and in particular the [Bidirectional LSTM](https://keras.io/examples/nlp/bidirectional_lstm_imdb/) example."
   ]
  },
  {
   "cell_type": "markdown",
   "metadata": {},
   "source": [
    "## Evaluation"
   ]
  },
  {
   "cell_type": "markdown",
   "metadata": {},
   "source": [
    "The most widely-used evaluation measure for part-of-speech tagging is per-word accuracy, which is the percentage of words to which the tagger assigns the correct tag (according to the gold standard). This is one of the default metrics in Keras.\n",
    "\n",
    "One problem that you will encounter during evaluation is that the evaluation data contains words that you did not see (and did not add to your index) during training. The simplest solution to this problem is to introduce a special &lsquo;word&rsquo; `<unk>` and replace each unknown word with this pseudoword."
   ]
  },
  {
   "cell_type": "markdown",
   "metadata": {},
   "source": [
    "## Part 1: Pre-process the data"
   ]
  },
  {
   "cell_type": "markdown",
   "metadata": {},
   "source": [
    "Before you can start to implement the network architecture as such, you will have to bring the tagged sentences from the gold-standard data into a form that can be used with the network. One important step in this is to map the words and tags (strings) to integers. Here is code that illustrates the idea:"
   ]
  },
  {
   "cell_type": "code",
   "execution_count": 6,
   "metadata": {},
   "outputs": [
    {
     "name": "stdout",
     "output_type": "stream",
     "text": [
      "Number of unique words in the training data: 19672\n",
      "Index of the word \"hates\": 4579\n"
     ]
    }
   ],
   "source": [
    "word_to_index = {}\n",
    "\n",
    "for tagged_sentence in train_data:\n",
    "    for word, tag in tagged_sentence:\n",
    "        if word not in word_to_index:\n",
    "            word_to_index[word] = len(word_to_index)\n",
    "\n",
    "print('Number of unique words in the training data: {}'.format(len(word_to_index)))\n",
    "print('Index of the word \"hates\": {}'.format(word_to_index['hates']))"
   ]
  },
  {
   "cell_type": "markdown",
   "metadata": {},
   "source": [
    "Once you have indexes for the words and the tags, you can construct the input and the gold-standard output tensor required to train the network.\n",
    "\n",
    "### Constructing the input tensor\n",
    "\n",
    "The input tensor should be of shape $(N, n)$ where $N$ is the total number of sentences in the training data and $n$ is the length of the longest sentence. Note that Keras requires all sequences in an input tensor to have the same length, which means that you will have to pad all sequences to that length. You can use the helper function [`pad_sequences`](https://www.tensorflow.org/api_docs/python/tf/keras/preprocessing/sequence/pad_sequences) for this, which by default will front-pad sequences with the value&nbsp;0. It is essential then that you do not use this special padding value as the index of actual words.\n",
    "\n",
    "### Constructing the target output tensor\n",
    "\n",
    "The target output tensor should be of shape $(N, n, T)$ where $T$ is the number of unique tags in the training data, plus one to cater for the special padding value. The additional dimension corresponds to the fact that the softmax layer of the network will output one $T$-dimensional vector for each position of an input sentence. To construct this vector, you can use the helper function [`to_categorical`](https://www.tensorflow.org/api_docs/python/tf/keras/utils/to_categorical)."
   ]
  },
  {
   "cell_type": "code",
   "execution_count": 8,
   "metadata": {},
   "outputs": [
    {
     "name": "stdout",
     "output_type": "stream",
     "text": [
      "Number of unique words in the training data: 19674\n",
      "Number of unique tags in the training_data: 18\n"
     ]
    }
   ],
   "source": [
    "# Define a help function to build index from a list of words or tags, each word / tag will have a unique number\n",
    "def build_index(strings, init=[]):\n",
    "    string_to_index = {s: i for i, s in enumerate(init)}\n",
    "    # Loop over strings in 'strings'\n",
    "    for s in strings :\n",
    "\n",
    "        # Check if string exists in variable 'string_to_index', \n",
    "        ex = s in string_to_index\n",
    "        # if string does not exist, add a new element to 'string_to_index': the current length of 'string_to_index'\n",
    "        if not ex :\n",
    "            string_to_index[s] = len(string_to_index)\n",
    "    return string_to_index\n",
    "        \n",
    "# Convert all words and tags in train_data to lists, start with empty lists and use '.append()' \n",
    "# to add one word / tag at a time, similar to the cell below 'pre-process the data'\n",
    "words, tags = [], []\n",
    "\n",
    "for tagged_sentence in train_data :\n",
    "    for word, tag in tagged_sentence :\n",
    "        if word not in words :\n",
    "            words.append(word)\n",
    "        if tag not in tags :\n",
    "            tags.append(tag)\n",
    "\n",
    "# Call the help function you made, to build an index for words (word_to_index), and one index for tags (tag_to_index)\n",
    "word_to_index = build_index(words, [\"<pad>\", \"<unk>\"])\n",
    "tag_to_index = build_index(tags, [\"<pad>\"])\n",
    "\n",
    "# Check number of words and tags\n",
    "num_words = len(word_to_index)\n",
    "num_tags = len(tag_to_index)\n",
    "\n",
    "print(f'Number of unique words in the training data: {num_words}')\n",
    "print(f'Number of unique tags in the training_data: {num_tags}')\n",
    "\n",
    "# You should get 19674 unique words and 18 unique tags (17 universal POS tags + padding) \n",
    "# '<pad>' should be included as a tag. (Hint: init in build_index)\n",
    "# '<pad>' and '<unk>' (unknown) should be included as words (Hint: init in build_index)"
   ]
  },
  {
   "cell_type": "code",
   "execution_count": 10,
   "metadata": {},
   "outputs": [
    {
     "name": "stdout",
     "output_type": "stream",
     "text": [
      "(12543, 159)\n",
      "(12543, 159, 18)\n"
     ]
    }
   ],
   "source": [
    "from tensorflow.keras.preprocessing.sequence import pad_sequences\n",
    "from tensorflow.keras.utils import to_categorical\n",
    "\n",
    "# Make a function that converts the tagged sentences, word indices and tag indices to \n",
    "# X and Y, that can be used when training the RNN\n",
    "def encode(tagged_sentences, word_to_index, tag_to_index):\n",
    "    \n",
    "    # Start with empty lists that will contain all training examples and corresponding output\n",
    "    X, Y = [], []\n",
    "    \n",
    "    # Loop over tagged sentences\n",
    "    for tagged_sentence in tagged_sentences :\n",
    "        # Make empty lists for current sentence\n",
    "        Xcurrent, Ycurrent = [], []\n",
    "    \n",
    "        # Loop over words and tags in current sentence\n",
    "        for word, tag in tagged_sentence :\n",
    "             # Append the index for the current word to Xcurrent, \n",
    "             # if the word does not exist in 'word_to_index', add the index for '<unk>' instead\n",
    "            Xcurrent.append(word_to_index[word] if word in word_to_index else word_to_index[\"<unk>\"])\n",
    "             # Append the index for the current tag to Ycurrent\n",
    "            Ycurrent.append(tag_to_index[tag])\n",
    "        # Append X with Xcurrent, and Y with Ycurrent\n",
    "        X.append(Xcurrent)\n",
    "        Y.append(Ycurrent)\n",
    "    # Pad the sequences, so that all have the same length\n",
    "    X = pad_sequences(X)\n",
    "    Y = pad_sequences(Y)\n",
    "    # Convert labels to categorical, as you did in the CNN lab\n",
    "    Y = to_categorical(Y)\n",
    "    return X, Y\n",
    "      \n",
    "    \n",
    "# Use your 'encode' function to create Xtrain and Ytrain from train_data, word_to_index, tag_to_index\n",
    "Xtrain, Ytrain = encode(train_data, word_to_index, tag_to_index)\n",
    "\n",
    "# Print the shape of Xtrain and Ytrain\n",
    "print(Xtrain.shape)\n",
    "print(Ytrain.shape)\n",
    "# The shapes should be\n",
    "# (12543, 159)\n",
    "# (12543, 159, 18)"
   ]
  },
  {
   "cell_type": "markdown",
   "metadata": {},
   "source": [
    "## Part 2: Construct the model"
   ]
  },
  {
   "cell_type": "markdown",
   "metadata": {},
   "source": [
    "To implement the network architecture, you need to find and instantiate the relevant building blocks from the Keras library. Note that Keras layers support a large number of optional parameters; use the default values unless you have a good reason not to. Two mandatory parameters that you will have to specify are the dimensionality of the embedding and the dimensionality of the output of the LSTM layer. The following values are reasonable starting points, but do try a number of different settings.\n",
    "\n",
    "* dimensionality of the embedding: 100\n",
    "* dimensionality of the output of the bidirectional LSTM layer: 100\n",
    "\n",
    "You will also have to choose an appropriate loss function for MULTI-class classification (18 classes). For training we recommend the Adam optimiser."
   ]
  },
  {
   "cell_type": "code",
   "execution_count": 21,
   "metadata": {},
   "outputs": [
    {
     "name": "stdout",
     "output_type": "stream",
     "text": [
      "Model: \"sequential_2\"\n",
      "_________________________________________________________________\n",
      " Layer (type)                Output Shape              Param #   \n",
      "=================================================================\n",
      " embedding_2 (Embedding)     (None, None, 14)          275436    \n",
      "                                                                 \n",
      " bidirectional_2 (Bidirectio  (None, None, 80)         17600     \n",
      " nal)                                                            \n",
      "                                                                 \n",
      " dense_2 (Dense)             (None, None, 18)          1458      \n",
      "                                                                 \n",
      "=================================================================\n",
      "Total params: 294,494\n",
      "Trainable params: 294,494\n",
      "Non-trainable params: 0\n",
      "_________________________________________________________________\n"
     ]
    }
   ],
   "source": [
    "from tensorflow.keras import Sequential\n",
    "# Import necessary layers\n",
    "from tensorflow.keras.layers import Embedding, Bidirectional, LSTM, Dense\n",
    "\n",
    "embedding_dim = 14\n",
    "hidden_dim = 40\n",
    "\n",
    "# Create model, similar to how it was done in the DNN and CNN labs\n",
    "model = Sequential()\n",
    "\n",
    "# The model should have an embedding layer, a bidirectional LSTM, and a dense softmax layer \n",
    "# (see the network architecture image)\n",
    "model.add(Embedding(num_words, embedding_dim))\n",
    "model.add(Bidirectional(LSTM(hidden_dim, return_sequences = True)))\n",
    "model.add(Dense(num_tags, activation = \"softmax\"))\n",
    "# Compile model\n",
    "model.compile(optimizer = \"adam\", loss = \"categorical_crossentropy\", metrics = [\"accuracy\"])\n",
    "\n",
    "# Print a summary of the model\n",
    "model.summary()"
   ]
  },
  {
   "cell_type": "markdown",
   "metadata": {},
   "source": [
    "## Part 3: Train the network"
   ]
  },
  {
   "cell_type": "markdown",
   "metadata": {},
   "source": [
    "The next step is to train the network. Use the following parameters:\n",
    "\n",
    "* number of epochs: 10\n",
    "* batch size: 32\n",
    "\n",
    "Training will print the average running loss on the training data after each minibatch. In addition to that, we ask you to also print the loss and accuracy on the development data after each epoch. You can do so by providing the `validation_data` argument to the `fit` method.\n",
    "\n",
    "Note that the `fit` method returns a [`History`](https://keras.io/callbacks/#history) object that contains useful information about the training. We will use that information in the next step."
   ]
  },
  {
   "cell_type": "code",
   "execution_count": 22,
   "metadata": {},
   "outputs": [
    {
     "name": "stdout",
     "output_type": "stream",
     "text": [
      "Epoch 1/8\n",
      "392/392 [==============================] - 26s 59ms/step - loss: 0.4486 - accuracy: 0.8996 - val_loss: 0.4454 - val_accuracy: 0.8578\n",
      "Epoch 2/8\n",
      "392/392 [==============================] - 22s 57ms/step - loss: 0.2527 - accuracy: 0.9216 - val_loss: 0.3749 - val_accuracy: 0.8846\n",
      "Epoch 3/8\n",
      "392/392 [==============================] - 22s 57ms/step - loss: 0.1824 - accuracy: 0.9426 - val_loss: 0.2258 - val_accuracy: 0.9297\n",
      "Epoch 4/8\n",
      "392/392 [==============================] - 23s 58ms/step - loss: 0.0912 - accuracy: 0.9756 - val_loss: 0.1159 - val_accuracy: 0.9689\n",
      "Epoch 5/8\n",
      "392/392 [==============================] - 23s 58ms/step - loss: 0.0461 - accuracy: 0.9886 - val_loss: 0.0804 - val_accuracy: 0.9771\n",
      "Epoch 6/8\n",
      "392/392 [==============================] - 23s 58ms/step - loss: 0.0291 - accuracy: 0.9928 - val_loss: 0.0675 - val_accuracy: 0.9800\n",
      "Epoch 7/8\n",
      "392/392 [==============================] - 23s 57ms/step - loss: 0.0217 - accuracy: 0.9944 - val_loss: 0.0633 - val_accuracy: 0.9808\n",
      "Epoch 8/8\n",
      "392/392 [==============================] - 22s 57ms/step - loss: 0.0176 - accuracy: 0.9953 - val_loss: 0.0613 - val_accuracy: 0.9815\n"
     ]
    }
   ],
   "source": [
    "import keras\n",
    "import tensorflow as tf\n",
    "\n",
    "# Encode the development (validation data) using the 'encode' function you created before, to get Xval and Yval\n",
    "Xval, Yval = encode(dev_data, word_to_index, tag_to_index)\n",
    "\n",
    "# Train the model and save the history, as you did in the DNN and CNN labs, provide validation data\n",
    "history = model.fit(Xtrain, Ytrain, batch_size = 32, epochs = 8, validation_data = (Xval, Yval))"
   ]
  },
  {
   "cell_type": "markdown",
   "metadata": {},
   "source": [
    "## Part 4: Identify a good model"
   ]
  },
  {
   "cell_type": "markdown",
   "metadata": {},
   "source": [
    "The following code will plot the loss on the training data and the loss on the validation data after each epoch:"
   ]
  },
  {
   "cell_type": "code",
   "execution_count": 17,
   "metadata": {},
   "outputs": [],
   "source": [
    "# Lets define a help function for plotting the training results\n",
    "import matplotlib.pyplot as plt\n",
    "\n",
    "def plot_results(history):\n",
    "    \n",
    "    val_loss = history.history['val_loss']\n",
    "    acc = history.history['accuracy']\n",
    "    loss = history.history['loss']\n",
    "    val_acc = history.history['val_accuracy']\n",
    "    \n",
    "    plt.figure(figsize=(10,4))\n",
    "    plt.xlabel('Epochs')\n",
    "    plt.ylabel('Loss')\n",
    "    plt.plot(loss)\n",
    "    plt.plot(val_loss)\n",
    "    plt.legend(['Training','Validation'])\n",
    "\n",
    "    plt.figure(figsize=(10,4))\n",
    "    plt.xlabel('Epochs')\n",
    "    plt.ylabel('Accuracy')\n",
    "    plt.plot(acc)\n",
    "    plt.plot(val_acc)\n",
    "    plt.legend(['Training','Validation'])\n",
    "\n",
    "    plt.show()"
   ]
  },
  {
   "cell_type": "code",
   "execution_count": 23,
   "metadata": {},
   "outputs": [
    {
     "data": {
      "image/png": "[encoded data removed]",
      "text/plain": [
       "<Figure size 720x288 with 1 Axes>"
      ]
     },
     "metadata": {
      "needs_background": "light"
     },
     "output_type": "display_data"
    },
    {
     "data": {
      "image/png": "[encoded data removed]",
      "text/plain": [
       "<Figure size 720x288 with 1 Axes>"
      ]
     },
     "metadata": {
      "needs_background": "light"
     },
     "output_type": "display_data"
    }
   ],
   "source": [
    "plot_results(history)"
   ]
  },
  {
   "cell_type": "markdown",
   "metadata": {},
   "source": [
    "Look at the plot and determine the epoch after which the model starts to overfit. Then, re-train your model using that many epochs and compute the accuracy of the tagger on the test data."
   ]
  },
  {
   "cell_type": "code",
   "execution_count": 24,
   "metadata": {},
   "outputs": [
    {
     "name": "stdout",
     "output_type": "stream",
     "text": [
      "65/65 [==============================] - 1s 10ms/step - loss: 0.0525 - accuracy: 0.9838\n",
      "Test loss: 0.0525\n",
      "Test accuracy: 0.9838\n"
     ]
    }
   ],
   "source": [
    "# Encode the test_data using the 'encode' function you created before, to get Xtest and Ytest\n",
    "Xtest, Ytest = encode(test_data, word_to_index, tag_to_index)\n",
    "\n",
    "# Evaluate the model on test data, as you did in the DNN and CNN lab\n",
    "score = model.evaluate(Xtest, Ytest)\n",
    "print('Test loss: %.4f' % score[0])\n",
    "print('Test accuracy: %.4f' % score[1])"
   ]
  },
  {
   "cell_type": "markdown",
   "metadata": {},
   "source": [
    "## Submission"
   ]
  },
  {
   "cell_type": "markdown",
   "metadata": {},
   "source": [
    "Your notebook should include all your code, and should be runnable without further modification. It should also include answers to the following questions:\n",
    "\n",
    "How many epochs did you train the final model for?\n",
    "\n",
    "What accuracy did you achieve on the test data?\n",
    "\n",
    "What dimensionality of the embedding did you use for your best results?\n",
    "\n",
    "What dimensionality of the output of the bidirectional LSTM layer did you use for your best results?\n",
    "\n",
    "Instead of manually identifying a good model, and redoing the training to that number of epochs, how can you automatically stop the training when the validation performance does not improve anymore? Hint: see Lecture 2\n",
    "\n",
    "What did you find particularly surprising or hard?\n",
    "\n",
    "How do you calculate the number of parameters in the embedding layer? Hint: the calculation includes the vocabulary size and the embedding dimension\n",
    "\n",
    "How do you calculate the number of parameters in the bidirectional LSTM layer? Hint: A LSTM layer has 4 parts; cell, input gate, output gate, forget gate, each part contains two weight matrices and a bias vector. A bidirectional LSTM contains two LSTMs.\n",
    "\n",
    "https://en.wikipedia.org/wiki/Long_short-term_memory"
   ]
  },
  {
   "cell_type": "markdown",
   "metadata": {},
   "source": [
    "Q1. epochs = 8\n",
    "\n",
    "Q2. test accuracy = 98%\n",
    "\n",
    "Q3. embedding dimensionality = 14\n",
    "\n",
    "Q4. LSTM output dimensionality = 40\n",
    "\n",
    "Q5. We can implement early stopping in keras by using the callback = [es] argument where es = EarlyStopping(), where we monitor the validation loss and stop the training when the validation loss stops decreasing.\n",
    "\n",
    "Q6. What we found surprising is how effective the Bidirectional LSTM is for word tagging, requiring only 8 epochs to achieve 98% accuracy.\n",
    "\n",
    "Q7. Number of parameters in embedding layer = vocab_size \\* embedding_dim = 19674 \\* 14 = 275436<br>\n",
    "vocab_size = num_words = 19674<br>\n",
    "embedding_dim = 14\n",
    "\n",
    "Q8. Number of parameters in the bidirectional LSTM layer = 2 \\* no_of_cell_parts \\* hidden_dim \\* (hidden_dim + input_size + 1) = 2 \\* 4 \\* 40 \\* (40+14+1) = 17600<br>\n",
    "no_of_cell_parts = 4<br>\n",
    "hidden_dim = 40<br>\n",
    "input_size = embedding_dim = 14<br>\n",
    "we add 1 extra parameter for bias, and multiply by 2 for bidirectional LSTM"
   ]
  },
  {
   "cell_type": "markdown",
   "metadata": {},
   "source": [
    "## Ethics in deep learning\n",
    "\n",
    "Now that you have watched the 5 lectures, and completed the 3 laborations in this course, what do you think is the most important ethical question related to deep learning? Motivate your answer.\n",
    "\n"
   ]
  },
  {
   "cell_type": "markdown",
   "metadata": {},
   "source": [
    "According to us, an important ethical question that arises in deep learning is one related to proprietorship of the results. Whether the results should belong to the person who applies a deep learning algorithm on some data, or the person who develops the algorithm, as there are no laws currently existing in this regard."
   ]
  }
 ],
 "metadata": {
  "kernelspec": {
   "display_name": "Python 3 (ipykernel)",
   "language": "python",
   "name": "python3"
  },
  "language_info": {
   "codemirror_mode": {
    "name": "ipython",
    "version": 3
   },
   "file_extension": ".py",
   "mimetype": "text/x-python",
   "name": "python",
   "nbconvert_exporter": "python",
   "pygments_lexer": "ipython3",
   "version": "3.9.12"
  }
 },
 "nbformat": 4,
 "nbformat_minor": 4
}
