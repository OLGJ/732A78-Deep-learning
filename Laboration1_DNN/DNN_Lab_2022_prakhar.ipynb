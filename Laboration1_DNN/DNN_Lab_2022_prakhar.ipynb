{
 "cells": [
  {
   "cell_type": "markdown",
   "metadata": {},
   "source": [
    "# Deep Neural Networks Laboration\n",
    "\n",
    "Data used in this laboration are from the Kitsune Network Attack Dataset, https://archive.ics.uci.edu/ml/datasets/Kitsune+Network+Attack+Dataset . We will focus on the 'Mirai' part of the dataset. Your task is to make a DNN that can classify if each attack is benign or malicious. The dataset has 116 covariates, but to make it a bit more difficult we will remove the first 24 covariates.\n",
    "\n",
    "You need to answer all questions in this notebook."
   ]
  },
  {
   "cell_type": "markdown",
   "metadata": {},
   "source": [
    "# Part 1: Get the data\n",
    "\n",
    "Skip this part if you load stored numpy arrays (Mirai*.npy) (which is recommended)\n",
    "\n",
    "Use `wget` in the terminal of your cloud machine (in the same directory as where you have saved this notebook) to download the data, i.e.\n",
    "\n",
    "wget https://archive.ics.uci.edu/ml/machine-learning-databases/00516/mirai/Mirai_dataset.csv.gz\n",
    "\n",
    "wget https://archive.ics.uci.edu/ml/machine-learning-databases/00516/mirai/Mirai_labels.csv.gz\n",
    "\n",
    "Then unpack the files using `gunzip` in the terminal, i.e.\n",
    "\n",
    "gunzip Mirai_dataset.csv.gz\n",
    "\n",
    "gunzip Mirai_labels.csv.gz"
   ]
  },
  {
   "cell_type": "markdown",
   "metadata": {},
   "source": [
    "# Part 2: Get a graphics card\n",
    "\n",
    "Skip this part if you run on the CPU (recommended)\n",
    "\n",
    "Lets make sure that our script can see the graphics card that will be used. The graphics cards will perform all the time consuming calculations in every training iteration."
   ]
  },
  {
   "cell_type": "code",
   "execution_count": 1,
   "metadata": {},
   "outputs": [
    {
     "ename": "IndexError",
     "evalue": "list index out of range",
     "output_type": "error",
     "traceback": [
      "\u001b[1;31m---------------------------------------------------------------------------\u001b[0m",
      "\u001b[1;31mIndexError\u001b[0m                                Traceback (most recent call last)",
      "Input \u001b[1;32mIn [1]\u001b[0m, in \u001b[0;36m<cell line: 17>\u001b[1;34m()\u001b[0m\n\u001b[0;32m     15\u001b[0m \u001b[38;5;66;03m# Allow growth of GPU memory, otherwise it will always look like all the memory is being used\u001b[39;00m\n\u001b[0;32m     16\u001b[0m physical_devices \u001b[38;5;241m=\u001b[39m tf\u001b[38;5;241m.\u001b[39mconfig\u001b[38;5;241m.\u001b[39mexperimental\u001b[38;5;241m.\u001b[39mlist_physical_devices(\u001b[38;5;124m'\u001b[39m\u001b[38;5;124mGPU\u001b[39m\u001b[38;5;124m'\u001b[39m)\n\u001b[1;32m---> 17\u001b[0m tf\u001b[38;5;241m.\u001b[39mconfig\u001b[38;5;241m.\u001b[39mexperimental\u001b[38;5;241m.\u001b[39mset_memory_growth(\u001b[43mphysical_devices\u001b[49m\u001b[43m[\u001b[49m\u001b[38;5;241;43m0\u001b[39;49m\u001b[43m]\u001b[49m, \u001b[38;5;28;01mTrue\u001b[39;00m)\n",
      "\u001b[1;31mIndexError\u001b[0m: list index out of range"
     ]
    }
   ],
   "source": [
    "import os\n",
    "import warnings\n",
    "\n",
    "# Ignore FutureWarning from numpy\n",
    "warnings.simplefilter(action='ignore', category=FutureWarning)\n",
    "\n",
    "import keras.backend as K\n",
    "import tensorflow as tf\n",
    "\n",
    "os.environ[\"CUDA_DEVICE_ORDER\"]=\"PCI_BUS_ID\";\n",
    " \n",
    "# The GPU id to use, usually either \"0\" or \"1\";\n",
    "os.environ[\"CUDA_VISIBLE_DEVICES\"]=\"0\";\n",
    "\n",
    "# Allow growth of GPU memory, otherwise it will always look like all the memory is being used\n",
    "physical_devices = tf.config.experimental.list_physical_devices('GPU')\n",
    "tf.config.experimental.set_memory_growth(physical_devices[0], True) "
   ]
  },
  {
   "cell_type": "markdown",
   "metadata": {},
   "source": [
    "# Part 3: Hardware\n",
    "\n",
    "In deep learning, the computer hardware is very important. You should always know what kind of hardware you are working on. Lets pretend that everyone is using an Nvidia RTX 3090 graphics card.\n",
    "\n",
    "Question 1: Google the name of the graphics card, how many CUDA cores does it have?\n",
    "\n",
    "Question 2: How much memory does the graphics card have?\n",
    "\n",
    "Question 3: What is stored in the GPU memory while training a DNN ?"
   ]
  },
  {
   "cell_type": "code",
   "execution_count": 2,
   "metadata": {},
   "outputs": [
    {
     "data": {
      "text/plain": [
       "'\\nQ1. 10496 CUDA cores\\n\\nQ2. 24 GB\\n\\nQ3. Input data, weights, and outputs of hidden layers (activations).\\n'"
      ]
     },
     "execution_count": 2,
     "metadata": {},
     "output_type": "execute_result"
    }
   ],
   "source": [
    "\"\"\"\n",
    "Q1. 10496 CUDA cores\n",
    "\n",
    "Q2. 24 GB\n",
    "\n",
    "Q3. Input data, weights, and outputs of hidden layers (activations).\n",
    "\"\"\""
   ]
  },
  {
   "cell_type": "markdown",
   "metadata": {},
   "source": [
    "# Part 4: Load the data\n",
    "\n",
    "To make this step easier, directly load the data from saved numpy arrays (.npy) (recommended)\n",
    "\n",
    "\n",
    "Load the dataset from the csv files, it will take some time since it is almost 1.4 GB. (not recommended, unless you want to learn how to do it)\n",
    "\n",
    "We will use the function `genfromtxt` to load the data. (not recommended, unless you want to learn how to do it)\n",
    "\n",
    "https://docs.scipy.org/doc/numpy/reference/generated/numpy.genfromtxt.html\n",
    "\n",
    "Load the data from csv files the first time, then save the data as numpy files for faster loading the next time.\n"
   ]
  },
  {
   "cell_type": "code",
   "execution_count": 3,
   "metadata": {},
   "outputs": [
    {
     "name": "stdout",
     "output_type": "stream",
     "text": [
      "The covariates have size (764137, 92).\n",
      "The labels have size (764137,).\n",
      "Number of examples of each class: (array([0., 1.]), array([121621, 642516], dtype=int64))\n"
     ]
    }
   ],
   "source": [
    "from numpy import genfromtxt # Not needed if you load data from numpy arrays\n",
    "import numpy as np\n",
    "\n",
    "# Load data from numpy arrays, choose reduced files if the training takes too long\n",
    "X = np.load('Mirai_data.npy')\n",
    "Y = np.load('Mirai_labels.npy')\n",
    "\n",
    "# Remove the first 24 covariates (columns)\n",
    "X = X[:, 24:]\n",
    "\n",
    "print('The covariates have size {}.'.format(X.shape))\n",
    "print('The labels have size {}.'.format(Y.shape))\n",
    "\n",
    "# Print the number of examples of each class\n",
    "print(f\"Number of examples of each class: {np.unique(Y, return_counts = True)}\")"
   ]
  },
  {
   "cell_type": "markdown",
   "metadata": {},
   "source": [
    "# Part 5: How good is a naive classifier?\n",
    "\n",
    "Question 4: Given the number of examples from each class, how high classification performance can a naive classifier obtain? The naive classifier will assume that all examples belong to one class. Note: you do not need to make a naive classifier, this is a theoretical question, just to understand how good performance we can obtain by guessing that all examples belong to one class."
   ]
  },
  {
   "cell_type": "code",
   "execution_count": 4,
   "metadata": {},
   "outputs": [
    {
     "name": "stdout",
     "output_type": "stream",
     "text": [
      "a naive classifier will have an accuracy of : 0.8408387501194158\n"
     ]
    }
   ],
   "source": [
    "print(f\"a naive classifier will have an accuracy of : {np.unique(Y, return_counts = True)[1][1]  / np.unique(Y, return_counts = True)[1].sum()}\")"
   ]
  },
  {
   "cell_type": "code",
   "execution_count": 5,
   "metadata": {},
   "outputs": [
    {
     "name": "stdout",
     "output_type": "stream",
     "text": [
      "0\n",
      "0\n"
     ]
    }
   ],
   "source": [
    "# It is common to have NaNs in the data, lets check for it. Hint: np.isnan()\n",
    "\n",
    "# Print the number of NaNs (not a number) in the labels\n",
    "print(np.isnan(Y).sum())\n",
    "\n",
    "# Print the number of NaNs in the covariates\n",
    "print(np.isnan(X).sum())"
   ]
  },
  {
   "cell_type": "markdown",
   "metadata": {},
   "source": [
    "# Part 6: Preprocessing\n",
    "\n",
    "Lets do some simple preprocessing"
   ]
  },
  {
   "cell_type": "code",
   "execution_count": 6,
   "metadata": {},
   "outputs": [
    {
     "name": "stdout",
     "output_type": "stream",
     "text": [
      "[-3.19451533e-18 -6.32970181e-14  1.19926356e-13  4.56743018e-15\n",
      "  4.10210037e-14  1.46130975e-13  5.85246484e-16 -1.69734859e-14\n",
      " -3.36915700e-13  1.28688437e-12 -2.69360995e-12 -1.10733213e-13\n",
      " -1.22392702e-13 -1.70649630e-13 -1.02461166e-14  2.50701280e-12\n",
      "  1.47553162e-12  1.08446837e-12 -1.04981959e-13  6.83458762e-14\n",
      " -1.03373555e-13  5.98825773e-14 -1.02025960e-12 -1.68983055e-12\n",
      " -1.79101143e-12 -1.31828514e-13  4.42580403e-13  6.14635580e-13\n",
      "  5.78048199e-14 -4.92623328e-13 -2.54513072e-12  1.86544900e-13\n",
      " -1.53444593e-13  1.68079591e-12  9.30041709e-13  1.50738177e-13\n",
      " -1.15688852e-12 -3.62610361e-13 -1.71390937e-12 -2.09264067e-13\n",
      "  1.07161976e-12 -1.45236885e-12 -1.69724579e-14 -1.64918984e-16\n",
      " -5.13444996e-14 -1.02171349e-14 -1.74685907e-15  1.34264921e-13\n",
      "  5.98801969e-14  1.48745574e-17 -4.25442340e-13  5.78079594e-14\n",
      "  1.25638129e-15  1.69449684e-13  1.50725881e-13  2.14439542e-14\n",
      "  3.65457183e-14  1.17260451e-13 -8.82752870e-13 -6.34816648e-13\n",
      " -1.62109649e-12  2.63270303e-13 -7.57215123e-15 -2.89395002e-14\n",
      " -3.90180996e-13 -1.53167085e-12 -9.57913621e-13  2.47411065e-13\n",
      "  2.44200541e-13 -6.73050928e-15  1.07502596e-13  2.58222203e-13\n",
      " -1.87714601e-13 -1.19882476e-12 -2.17154862e-12  5.48444735e-14\n",
      "  5.46183481e-15  3.71315442e-14  1.47576646e-13 -1.62639245e-12\n",
      " -1.23986972e-13 -1.71744315e-12  5.29956657e-13 -3.21442452e-14\n",
      " -4.59767392e-14  3.56347870e-13 -1.48544246e-12 -1.26642728e-13\n",
      "  1.52633871e-13  9.58048710e-14  4.34603426e-14 -4.07615740e-14]\n",
      "[1. 1. 1. 1. 1. 1. 1. 1. 1. 1. 1. 1. 1. 1. 1. 1. 1. 1. 1. 1. 1. 1. 1. 1.\n",
      " 1. 1. 1. 1. 1. 1. 1. 1. 1. 1. 1. 1. 1. 1. 1. 1. 1. 1. 1. 1. 1. 1. 1. 1.\n",
      " 1. 1. 1. 1. 1. 1. 1. 1. 1. 1. 1. 1. 1. 1. 1. 1. 1. 1. 1. 1. 1. 1. 1. 1.\n",
      " 1. 1. 1. 1. 1. 1. 1. 1. 1. 1. 1. 1. 1. 1. 1. 1. 1. 1. 1. 1.]\n"
     ]
    }
   ],
   "source": [
    "# Convert covariates to floats\n",
    "X = X.astype(\"float\")\n",
    "\n",
    "# Convert labels to integers\n",
    "Y = Y.astype(\"int\")\n",
    "\n",
    "# Remove mean of each covariate (column)\n",
    "X = X - X.mean(axis = 0)\n",
    "\n",
    "# Divide each covariate (column) by its standard deviation\n",
    "X = X / X.std(axis = 0)\n",
    "\n",
    "# Check that mean is 0 and standard deviation is 1 for all covariates, by printing mean and std\n",
    "print(X.mean(axis = 0))\n",
    "print(X.std(axis = 0))"
   ]
  },
  {
   "cell_type": "markdown",
   "metadata": {},
   "source": [
    "# Part 7: Split the dataset\n",
    "\n",
    "Use the first 70% of the dataset for training, leave the other 30% for validation and test, call the variables\n",
    "\n",
    "Xtrain (70%)\n",
    "\n",
    "Xtemp  (30%)\n",
    "\n",
    "Ytrain (70%)\n",
    "\n",
    "Ytemp  (30%)\n",
    "\n",
    "We use a function from scikit learn.\n",
    "https://scikit-learn.org/stable/modules/generated/sklearn.model_selection.train_test_split.html\n"
   ]
  },
  {
   "cell_type": "code",
   "execution_count": 7,
   "metadata": {},
   "outputs": [
    {
     "name": "stdout",
     "output_type": "stream",
     "text": [
      "Xtrain has size (534895, 92).\n",
      "Ytrain has size (534895,).\n",
      "Xtemp has size (229242, 92).\n",
      "Ytemp has size (229242,).\n",
      "Number of examples of each class in training data: (array([0, 1]), array([ 85334, 449561], dtype=int64))\n",
      "Number of examples of each class in remaining data: (array([0, 1]), array([ 36287, 192955], dtype=int64))\n"
     ]
    }
   ],
   "source": [
    "from sklearn.model_selection import train_test_split\n",
    "\n",
    "# Your code\n",
    "Xtrain, Xtemp, Ytrain, Ytemp = train_test_split(X, Y, test_size = .3)\n",
    "\n",
    "print('Xtrain has size {}.'.format(Xtrain.shape))\n",
    "print('Ytrain has size {}.'.format(Ytrain.shape))\n",
    "\n",
    "print('Xtemp has size {}.'.format(Xtemp.shape))\n",
    "print('Ytemp has size {}.'.format(Ytemp.shape))\n",
    "\n",
    "# Print the number of examples of each class, for the training data and the remaining 30%\n",
    "print(f\"Number of examples of each class in training data: {np.unique(Ytrain, return_counts = True)}\")\n",
    "print(f\"Number of examples of each class in remaining data: {np.unique(Ytemp, return_counts = True)}\")"
   ]
  },
  {
   "cell_type": "markdown",
   "metadata": {
    "tags": []
   },
   "source": [
    "#  Part 8: Split non-training data into validation and test\n",
    "Now split your non-training data (Xtemp, Ytemp) into 50% validation (Xval, Yval) and 50% testing (Xtest, Ytest), we use a function from scikit learn. In total this gives us 70% for training, 15% for validation, 15% for test.\n",
    "\n",
    "https://scikit-learn.org/stable/modules/generated/sklearn.model_selection.train_test_split.html\n",
    "\n",
    "Do all variables (Xtrain,Ytrain), (Xval,Yval), (Xtest,Ytest) have the shape that you expect?"
   ]
  },
  {
   "cell_type": "code",
   "execution_count": 11,
   "metadata": {},
   "outputs": [
    {
     "name": "stdout",
     "output_type": "stream",
     "text": [
      "The validation and test data have size (114621, 92), (114621, 92), (114621,) and (114621,)\n"
     ]
    }
   ],
   "source": [
    "Xval, Xtest, Yval, Ytest= train_test_split(Xtemp, Ytemp, test_size = .5)\n",
    "\n",
    "print('The validation and test data have size {}, {}, {} and {}'.format(Xval.shape, Xtest.shape, Yval.shape, Ytest.shape))"
   ]
  },
  {
   "cell_type": "markdown",
   "metadata": {},
   "source": [
    "# Part 9: DNN classification\n",
    "\n",
    "Finish this code to create a first version of the classifier using a DNN. Start with a simple network with 2 dense layers (with 20 nodes each), using sigmoid activation functions. The final dense layer should have a single node and a sigmoid activation function. We start with the SGD optimizer.\n",
    "\n",
    "For different parts of this notebook you need to go back here, add more things, and re-run this cell to re-define the build function.\n",
    "\n",
    "Relevant functions are\n",
    "\n",
    "`model.add()`, adds a layer to the network\n",
    "\n",
    "`Dense()`, a dense network layer\n",
    "\n",
    "`model.compile()`, compile the model, add \" metrics=['accuracy'] \" to print the classification accuracy during the training\n",
    "\n",
    "See https://keras.io/layers/core/ for information on how the `Dense()` function works\n",
    "\n",
    "Import a relevant cost / loss function for binary classification from keras.losses (https://keras.io/losses/)\n",
    "\n",
    "See the following links for how to compile, train and evaluate the model\n",
    "\n",
    "https://keras.io/api/models/model_training_apis/#compile-method\n",
    "\n",
    "https://keras.io/api/models/model_training_apis/#fit-method\n",
    "\n",
    "https://keras.io/api/models/model_training_apis/#evaluate-method\n"
   ]
  },
  {
   "cell_type": "code",
   "execution_count": 108,
   "metadata": {},
   "outputs": [],
   "source": [
    "from keras.models import Sequential, Model\n",
    "from keras.layers import Input, Dense\n",
    "from keras.layers import BatchNormalization\n",
    "from keras.layers import Dropout\n",
    "from tensorflow.keras.optimizers import SGD\n",
    "from tensorflow.keras.optimizers import Adam\n",
    "from tensorflow.keras.optimizers import RMSprop\n",
    "from keras.losses import BinaryCrossentropy\n",
    "\n",
    "# Set seed from random number generator, for better comparisons\n",
    "from numpy.random import seed\n",
    "seed(123)\n",
    "\n",
    "def build_DNN(input_shape, n_layers, n_nodes, act_fun='sigmoid', optimizer='sgd', learning_rate=0.01, \n",
    "              use_bn=False, use_dropout=False, use_custom_dropout=False, dropout_rate = 0.5):\n",
    "    \n",
    "    # Setup optimizer, depending on input parameter string\n",
    "    if optimizer == 'sgd' :\n",
    "        opt = SGD(learning_rate = learning_rate)\n",
    "    elif optimizer == 'adam' :\n",
    "        opt = Adam(learning_rate = learning_rate)\n",
    "    elif optimizer == 'rmsprop' :\n",
    "        opt = RMSprop(learning_rate = learning_rate)\n",
    "    \n",
    "    # Setup a sequential model\n",
    "    model = Sequential()\n",
    "\n",
    "    # Add layers to the model, using the input parameters of the build_DNN function\n",
    "    \n",
    "    # Add first layer, requires input shape\n",
    "    model.add(Dense(n_nodes, input_shape = input_shape, activation = act_fun))\n",
    "    if use_dropout == True :\n",
    "        model.add(Dropout(rate = dropout_rate))\n",
    "    elif use_custom_dropout == True :\n",
    "        model.add(myDropout(rate = dropout_rate))\n",
    "    if use_bn == True :\n",
    "        model.add(BatchNormalization())\n",
    "    # Add remaining layers, do not require input shape\n",
    "    for i in range(n_layers-1):\n",
    "        model.add(Dense(n_nodes, activation = act_fun))\n",
    "        if use_dropout == True :\n",
    "            model.add(Dropout(rate = dropout_rate))\n",
    "        elif use_custom_dropout == True :\n",
    "            model.add(myDropout(rate = dropout_rate))\n",
    "        if use_bn == True:\n",
    "            model.add(BatchNormalization())\n",
    "\n",
    "    \n",
    "    # Add final layer\n",
    "    model.add(Dense(1, activation = 'sigmoid'))\n",
    "    \n",
    "    # Compile model\n",
    "    model.compile(optimizer = opt, loss = BinaryCrossentropy(), metrics = ['accuracy'])\n",
    "    \n",
    "    return model"
   ]
  },
  {
   "cell_type": "code",
   "execution_count": 9,
   "metadata": {},
   "outputs": [],
   "source": [
    "# Lets define a help function for plotting the training results\n",
    "\n",
    "import matplotlib.pyplot as plt\n",
    "def plot_results(history):\n",
    "    \n",
    "    val_loss = history.history['val_loss']\n",
    "    acc = history.history['accuracy']\n",
    "    loss = history.history['loss']\n",
    "    val_acc = history.history['val_accuracy']\n",
    "    \n",
    "    plt.figure(figsize=(10,4))\n",
    "    plt.xlabel('Epochs')\n",
    "    plt.ylabel('Loss')\n",
    "    plt.plot(loss)\n",
    "    plt.plot(val_loss)\n",
    "    plt.legend(['Training','Validation'])\n",
    "\n",
    "    plt.figure(figsize=(10,4))\n",
    "    plt.xlabel('Epochs')\n",
    "    plt.ylabel('Accuracy')\n",
    "    plt.plot(acc)\n",
    "    plt.plot(val_acc)\n",
    "    plt.legend(['Training','Validation'])\n",
    "\n",
    "    plt.show()"
   ]
  },
  {
   "cell_type": "markdown",
   "metadata": {},
   "source": [
    "# Part 10: Train the DNN\n",
    "\n",
    "Time to train the DNN, we start simple with 2 layers with 20 nodes each, learning rate 0.1.\n",
    "\n",
    "Relevant functions\n",
    "\n",
    "`build_DNN`, the function we defined in Part 9, call it with the parameters you want to use\n",
    "\n",
    "`model.fit()`, train the model with some training data\n",
    "\n",
    "`model.evaluate()`, apply the trained model to some test data\n",
    "\n",
    "See the following links for how to train and evaluate the model\n",
    "\n",
    "https://keras.io/api/models/model_training_apis/#fit-method\n",
    "\n",
    "https://keras.io/api/models/model_training_apis/#evaluate-method\n"
   ]
  },
  {
   "cell_type": "markdown",
   "metadata": {},
   "source": [
    "### 2 layers, 20 nodes"
   ]
  },
  {
   "cell_type": "code",
   "execution_count": 12,
   "metadata": {
    "scrolled": true
   },
   "outputs": [
    {
     "name": "stdout",
     "output_type": "stream",
     "text": [
      "Epoch 1/20\n",
      "54/54 [==============================] - 1s 13ms/step - loss: 0.4269 - accuracy: 0.8405 - val_loss: 0.4013 - val_accuracy: 0.8403\n",
      "Epoch 2/20\n",
      "54/54 [==============================] - 0s 8ms/step - loss: 0.3815 - accuracy: 0.8405 - val_loss: 0.3589 - val_accuracy: 0.8403\n",
      "Epoch 3/20\n",
      "54/54 [==============================] - 0s 7ms/step - loss: 0.3329 - accuracy: 0.8405 - val_loss: 0.3056 - val_accuracy: 0.8403\n",
      "Epoch 4/20\n",
      "54/54 [==============================] - 0s 8ms/step - loss: 0.2803 - accuracy: 0.8404 - val_loss: 0.2574 - val_accuracy: 0.8402\n",
      "Epoch 5/20\n",
      "54/54 [==============================] - 0s 7ms/step - loss: 0.2401 - accuracy: 0.8508 - val_loss: 0.2266 - val_accuracy: 0.8596\n",
      "Epoch 6/20\n",
      "54/54 [==============================] - 0s 8ms/step - loss: 0.2166 - accuracy: 0.8749 - val_loss: 0.2099 - val_accuracy: 0.8888\n",
      "Epoch 7/20\n",
      "54/54 [==============================] - 0s 8ms/step - loss: 0.2039 - accuracy: 0.8976 - val_loss: 0.2007 - val_accuracy: 0.9002\n",
      "Epoch 8/20\n",
      "54/54 [==============================] - 0s 8ms/step - loss: 0.1967 - accuracy: 0.9031 - val_loss: 0.1951 - val_accuracy: 0.9029\n",
      "Epoch 9/20\n",
      "54/54 [==============================] - 0s 7ms/step - loss: 0.1920 - accuracy: 0.9040 - val_loss: 0.1912 - val_accuracy: 0.9029\n",
      "Epoch 10/20\n",
      "54/54 [==============================] - 0s 7ms/step - loss: 0.1886 - accuracy: 0.9043 - val_loss: 0.1883 - val_accuracy: 0.9032\n",
      "Epoch 11/20\n",
      "54/54 [==============================] - 0s 8ms/step - loss: 0.1860 - accuracy: 0.9049 - val_loss: 0.1859 - val_accuracy: 0.9039\n",
      "Epoch 12/20\n",
      "54/54 [==============================] - 0s 8ms/step - loss: 0.1838 - accuracy: 0.9055 - val_loss: 0.1839 - val_accuracy: 0.9048\n",
      "Epoch 13/20\n",
      "54/54 [==============================] - 0s 8ms/step - loss: 0.1820 - accuracy: 0.9061 - val_loss: 0.1821 - val_accuracy: 0.9052\n",
      "Epoch 14/20\n",
      "54/54 [==============================] - 1s 9ms/step - loss: 0.1803 - accuracy: 0.9064 - val_loss: 0.1806 - val_accuracy: 0.9058\n",
      "Epoch 15/20\n",
      "54/54 [==============================] - 1s 10ms/step - loss: 0.1789 - accuracy: 0.9068 - val_loss: 0.1792 - val_accuracy: 0.9062\n",
      "Epoch 16/20\n",
      "54/54 [==============================] - 1s 9ms/step - loss: 0.1776 - accuracy: 0.9071 - val_loss: 0.1779 - val_accuracy: 0.9065\n",
      "Epoch 17/20\n",
      "54/54 [==============================] - 0s 9ms/step - loss: 0.1764 - accuracy: 0.9073 - val_loss: 0.1768 - val_accuracy: 0.9067\n",
      "Epoch 18/20\n",
      "54/54 [==============================] - 0s 9ms/step - loss: 0.1754 - accuracy: 0.9075 - val_loss: 0.1758 - val_accuracy: 0.9068\n",
      "Epoch 19/20\n",
      "54/54 [==============================] - 0s 9ms/step - loss: 0.1744 - accuracy: 0.9077 - val_loss: 0.1749 - val_accuracy: 0.9070\n",
      "Epoch 20/20\n",
      "54/54 [==============================] - 0s 9ms/step - loss: 0.1735 - accuracy: 0.9080 - val_loss: 0.1740 - val_accuracy: 0.9075\n"
     ]
    }
   ],
   "source": [
    "# Setup some training parameters\n",
    "batch_size = 10000\n",
    "epochs = 20\n",
    "\n",
    "input_shape = (X.shape[1],)\n",
    "\n",
    "# Build the model\n",
    "model1 = build_DNN(input_shape, 2, 20, act_fun='sigmoid', optimizer='sgd', learning_rate=0.1, use_bn=False, use_dropout=False,\n",
    "                   use_custom_dropout=False)\n",
    "\n",
    "# Train the model, provide training data and validation data\n",
    "history1 = model1.fit(Xtrain, Ytrain, batch_size, epochs, validation_data = (Xval, Yval))"
   ]
  },
  {
   "cell_type": "code",
   "execution_count": 13,
   "metadata": {},
   "outputs": [
    {
     "name": "stdout",
     "output_type": "stream",
     "text": [
      "3582/3582 [==============================] - 3s 914us/step - loss: 0.1732 - accuracy: 0.9070\n",
      "Test loss: 0.1732\n",
      "Test accuracy: 0.9070\n"
     ]
    }
   ],
   "source": [
    "# Evaluate the model on the test data\n",
    "score = model1.evaluate(Xtest, Ytest)\n",
    "\n",
    "print('Test loss: %.4f' % score[0])\n",
    "print('Test accuracy: %.4f' % score[1])"
   ]
  },
  {
   "cell_type": "code",
   "execution_count": 14,
   "metadata": {},
   "outputs": [
    {
     "data": {
      "image/png": "[encoded data removed]",
      "text/plain": [
       "<Figure size 720x288 with 1 Axes>"
      ]
     },
     "metadata": {
      "needs_background": "light"
     },
     "output_type": "display_data"
    },
    {
     "data": {
      "image/png": "[encoded data removed]",
      "text/plain": [
       "<Figure size 720x288 with 1 Axes>"
      ]
     },
     "metadata": {
      "needs_background": "light"
     },
     "output_type": "display_data"
    }
   ],
   "source": [
    "# Plot the history from the training run\n",
    "plot_results(history1)"
   ]
  },
  {
   "cell_type": "markdown",
   "metadata": {},
   "source": [
    "# Part 11: More questions\n",
    "\n",
    "Question 5: What happens if you add several Dense layers without specifying the activation function?\n",
    "\n",
    "Question 6: How are the weights in each dense layer initialized as default? How are the bias weights initialized?\n"
   ]
  },
  {
   "cell_type": "code",
   "execution_count": 14,
   "metadata": {},
   "outputs": [
    {
     "data": {
      "text/plain": [
       "'\\nQ5. Adding dense layers without specifying the activation function results in default linear activation.\\n\\nQ6. Default initialization of weights in Dense layers is glorot_uniform which assigns weights randomly according to a uniform distribution,\\nwhose limits depend on the number of input and output units of the layer.\\nBias weights are initialized with zeros by default.\\n'"
      ]
     },
     "execution_count": 14,
     "metadata": {},
     "output_type": "execute_result"
    }
   ],
   "source": [
    "\"\"\"\n",
    "Q5. Adding dense layers without specifying the activation function results in default linear activation.\n",
    "\n",
    "Q6. Default initialization of weights in Dense layers is glorot_uniform which assigns weights randomly according to a uniform distribution,\n",
    "whose limits depend on the number of input and output units of the layer.\n",
    "Bias weights are initialized with zeros by default.\n",
    "\"\"\""
   ]
  },
  {
   "cell_type": "markdown",
   "metadata": {},
   "source": [
    "# Part 12: Balancing the classes\n",
    "\n",
    "This dataset is rather unbalanced, we need to define class weights so that the training pays more attention to the class with fewer samples. We use a function in scikit learn\n",
    "\n",
    "https://scikit-learn.org/stable/modules/generated/sklearn.utils.class_weight.compute_class_weight.html\n",
    "\n",
    "You need to call the function something like this\n",
    "\n",
    "class_weights = class_weight.compute_class_weight(class_weight = , classes = , y = )\n",
    "\n",
    "otherwise it will complain"
   ]
  },
  {
   "cell_type": "code",
   "execution_count": 19,
   "metadata": {},
   "outputs": [
    {
     "name": "stdout",
     "output_type": "stream",
     "text": [
      "[3.14146817 0.59464434]\n"
     ]
    }
   ],
   "source": [
    "from sklearn.utils import class_weight\n",
    "\n",
    "# Calculate class weights\n",
    "class_weights = class_weight.compute_class_weight(class_weight = \"balanced\", classes = np.unique(Y), y = Y)\n",
    "\n",
    "# Print the class weights\n",
    "print(class_weights)\n",
    "# Keras wants the weights in this form, uncomment and change value1 and value2 to your weights, \n",
    "# or get them from the array that is returned from class_weight\n",
    "\n",
    "class_weights = {0: class_weights[0],\n",
    "                 1: class_weights[1]}\n"
   ]
  },
  {
   "cell_type": "markdown",
   "metadata": {},
   "source": [
    "### 2 layers, 20 nodes, class weights"
   ]
  },
  {
   "cell_type": "code",
   "execution_count": 16,
   "metadata": {
    "scrolled": true
   },
   "outputs": [
    {
     "name": "stdout",
     "output_type": "stream",
     "text": [
      "Epoch 1/20\n",
      "54/54 [==============================] - 1s 15ms/step - loss: 0.6348 - accuracy: 0.8730 - val_loss: 0.5679 - val_accuracy: 0.8802\n",
      "Epoch 2/20\n",
      "54/54 [==============================] - 1s 15ms/step - loss: 0.4891 - accuracy: 0.8809 - val_loss: 0.4183 - val_accuracy: 0.8792\n",
      "Epoch 3/20\n",
      "54/54 [==============================] - 0s 9ms/step - loss: 0.3425 - accuracy: 0.8803 - val_loss: 0.3210 - val_accuracy: 0.8794\n",
      "Epoch 4/20\n",
      "54/54 [==============================] - 0s 8ms/step - loss: 0.2677 - accuracy: 0.8804 - val_loss: 0.2891 - val_accuracy: 0.8795\n",
      "Epoch 5/20\n",
      "54/54 [==============================] - 0s 9ms/step - loss: 0.2390 - accuracy: 0.8806 - val_loss: 0.2775 - val_accuracy: 0.8796\n",
      "Epoch 6/20\n",
      "54/54 [==============================] - 1s 9ms/step - loss: 0.2262 - accuracy: 0.8808 - val_loss: 0.2715 - val_accuracy: 0.8798\n",
      "Epoch 7/20\n",
      "54/54 [==============================] - 0s 7ms/step - loss: 0.2190 - accuracy: 0.8811 - val_loss: 0.2662 - val_accuracy: 0.8806\n",
      "Epoch 8/20\n",
      "54/54 [==============================] - 0s 8ms/step - loss: 0.2142 - accuracy: 0.8826 - val_loss: 0.2626 - val_accuracy: 0.8829\n",
      "Epoch 9/20\n",
      "54/54 [==============================] - 0s 9ms/step - loss: 0.2104 - accuracy: 0.8856 - val_loss: 0.2589 - val_accuracy: 0.8862\n",
      "Epoch 10/20\n",
      "54/54 [==============================] - 0s 8ms/step - loss: 0.2073 - accuracy: 0.8881 - val_loss: 0.2558 - val_accuracy: 0.8889\n",
      "Epoch 11/20\n",
      "54/54 [==============================] - 0s 8ms/step - loss: 0.2045 - accuracy: 0.8913 - val_loss: 0.2530 - val_accuracy: 0.8920\n",
      "Epoch 12/20\n",
      "54/54 [==============================] - 0s 8ms/step - loss: 0.2022 - accuracy: 0.8937 - val_loss: 0.2508 - val_accuracy: 0.8943\n",
      "Epoch 13/20\n",
      "54/54 [==============================] - 0s 7ms/step - loss: 0.2000 - accuracy: 0.8955 - val_loss: 0.2485 - val_accuracy: 0.8957\n",
      "Epoch 14/20\n",
      "54/54 [==============================] - 0s 8ms/step - loss: 0.1980 - accuracy: 0.8968 - val_loss: 0.2475 - val_accuracy: 0.8965\n",
      "Epoch 15/20\n",
      "54/54 [==============================] - 0s 8ms/step - loss: 0.1961 - accuracy: 0.8977 - val_loss: 0.2443 - val_accuracy: 0.8976\n",
      "Epoch 16/20\n",
      "54/54 [==============================] - 0s 7ms/step - loss: 0.1943 - accuracy: 0.8984 - val_loss: 0.2420 - val_accuracy: 0.8981\n",
      "Epoch 17/20\n",
      "54/54 [==============================] - 0s 7ms/step - loss: 0.1927 - accuracy: 0.8989 - val_loss: 0.2403 - val_accuracy: 0.8984\n",
      "Epoch 18/20\n",
      "54/54 [==============================] - 0s 7ms/step - loss: 0.1911 - accuracy: 0.8992 - val_loss: 0.2391 - val_accuracy: 0.8988\n",
      "Epoch 19/20\n",
      "54/54 [==============================] - 0s 7ms/step - loss: 0.1896 - accuracy: 0.8999 - val_loss: 0.2363 - val_accuracy: 0.8999\n",
      "Epoch 20/20\n",
      "54/54 [==============================] - 0s 7ms/step - loss: 0.1883 - accuracy: 0.9009 - val_loss: 0.2357 - val_accuracy: 0.9008\n"
     ]
    }
   ],
   "source": [
    "# Setup some training parameters\n",
    "batch_size = 10000\n",
    "epochs = 20\n",
    "input_shape = (X.shape[1],)\n",
    "\n",
    "# Build and train model\n",
    "model2 = build_DNN(input_shape, 2, 20, act_fun='sigmoid', optimizer='sgd', learning_rate=0.1, use_bn=False, use_dropout=False,\n",
    "                   use_custom_dropout=False)\n",
    "\n",
    "history2 = model2.fit(Xtrain, Ytrain, batch_size, epochs, validation_data = (Xval, Yval), class_weight = class_weights)"
   ]
  },
  {
   "cell_type": "code",
   "execution_count": 20,
   "metadata": {},
   "outputs": [
    {
     "name": "stdout",
     "output_type": "stream",
     "text": [
      "3582/3582 [==============================] - 3s 897us/step - loss: 0.2375 - accuracy: 0.8999\n",
      "Test loss: 0.2375\n",
      "Test accuracy: 0.8999\n"
     ]
    }
   ],
   "source": [
    "# Evaluate model on test data\n",
    "score = model2.evaluate(Xtest, Ytest)\n",
    "\n",
    "print('Test loss: %.4f' % score[0])\n",
    "print('Test accuracy: %.4f' % score[1])"
   ]
  },
  {
   "cell_type": "code",
   "execution_count": 21,
   "metadata": {},
   "outputs": [
    {
     "data": {
      "image/png": "[encoded data removed]",
      "text/plain": [
       "<Figure size 720x288 with 1 Axes>"
      ]
     },
     "metadata": {
      "needs_background": "light"
     },
     "output_type": "display_data"
    },
    {
     "data": {
      "image/png": "[encoded data removed]",
      "text/plain": [
       "<Figure size 720x288 with 1 Axes>"
      ]
     },
     "metadata": {
      "needs_background": "light"
     },
     "output_type": "display_data"
    }
   ],
   "source": [
    "plot_results(history2)"
   ]
  },
  {
   "cell_type": "markdown",
   "metadata": {},
   "source": [
    "# Part 13: More questions\n",
    "\n",
    "Skip questions 8 and 9 if you run on the CPU (recommended)\n",
    "\n",
    "Question 7: Why do we have to use a batch size? Why can't we simply use all data at once? This is more relevant for even larger datasets.\n",
    "\n",
    "Question 8: How busy is the GPU for a batch size of 100? How much GPU memory is used? Hint: run 'nvidia-smi' on the computer a few times during training.\n",
    "\n",
    "Question 9: What is the processing time for one training epoch when the batch size is 100? What is the processing time for one epoch when the batch size is 1,000? What is the processing time for one epoch when the batch size is 10,000? Explain the results. \n",
    "\n",
    "Question 10: How many times are the weights in the DNN updated in each training epoch if the batch size is 100? How many times are the weights in the DNN updated in each training epoch if the batch size is 1,000? How many times are the weights in the DNN updated in each training epoch if the batch size is 10,000?  \n",
    "\n",
    "Question 11: What limits how large the batch size can be?\n",
    "\n",
    "Question 12: Generally speaking, how is the learning rate related to the batch size? If the batch size is decreased, how should the learning rate be changed?\n",
    "\n",
    "Lets use a batch size of 10,000 from now on, and a learning rate of 0.1."
   ]
  },
  {
   "cell_type": "code",
   "execution_count": 67,
   "metadata": {},
   "outputs": [
    {
     "data": {
      "text/plain": [
       "'\\nQ7. Batch size is required to split the training data into batches that can be loaded in the memory or the\\nGPU, otherwise if the data set is too large, the entire training data will not fit into the memory.\\n\\nQ10. Size of training data is 534895 in our case, so the number of iterations will be :\\n\\nbatch size = 100: 534895/100 = 5348.95 = 5349\\nbatch size = 1000: 534895/1000 = 534.895 = 535\\nbatch size = 10000: 534895/10000 = 53.4895 = 54\\n\\nand in each iteration the weights will be updated.\\n\\nQ11. The memory size will limit the batch size.\\n\\nQ12. If we decrease the batch size, the learning rate should also be decreased to account for more\\niterations, and also the greater irregularity, and smaller amount of information contained in smaller\\nbatches.\\n'"
      ]
     },
     "execution_count": 67,
     "metadata": {},
     "output_type": "execute_result"
    }
   ],
   "source": [
    "\"\"\"\n",
    "Q7. Batch size is required to split the training data into batches that can be loaded in the memory or the\n",
    "GPU, otherwise if the data set is too large, the entire training data will not fit into the memory.\n",
    "\n",
    "Q10. Size of training data is 534895 in our case, so the number of iterations will be :\n",
    "\n",
    "batch size = 100: 534895/100 = 5348.95 = 5349\n",
    "batch size = 1000: 534895/1000 = 534.895 = 535\n",
    "batch size = 10000: 534895/10000 = 53.4895 = 54\n",
    "\n",
    "and in each iteration the weights will be updated.\n",
    "\n",
    "Q11. The memory size will limit the batch size.\n",
    "\n",
    "Q12. If we decrease the batch size, the learning rate should also be decreased to account for more\n",
    "iterations, and also the greater irregularity, and smaller amount of information contained in smaller\n",
    "batches.\n",
    "\"\"\""
   ]
  },
  {
   "cell_type": "markdown",
   "metadata": {},
   "source": [
    "# Part 14: Increasing the complexity\n",
    "\n",
    "Lets try some different configurations of number of layers and number of nodes per layer.\n",
    "\n",
    "Question 13: How many trainable parameters does the network with 4 dense layers with 50 nodes each have, compared to the initial network with 2 layers and 20 nodes per layer? Hint: use model.summary()"
   ]
  },
  {
   "cell_type": "code",
   "execution_count": 35,
   "metadata": {},
   "outputs": [
    {
     "name": "stdout",
     "output_type": "stream",
     "text": [
      "Model: \"sequential_2\"\n",
      "_________________________________________________________________\n",
      " Layer (type)                Output Shape              Param #   \n",
      "=================================================================\n",
      " dense_6 (Dense)             (None, 20)                1860      \n",
      "                                                                 \n",
      " dense_7 (Dense)             (None, 20)                420       \n",
      "                                                                 \n",
      " dense_8 (Dense)             (None, 1)                 21        \n",
      "                                                                 \n",
      "=================================================================\n",
      "Total params: 2,301\n",
      "Trainable params: 2,301\n",
      "Non-trainable params: 0\n",
      "_________________________________________________________________\n",
      "Model: \"sequential_5\"\n",
      "_________________________________________________________________\n",
      " Layer (type)                Output Shape              Param #   \n",
      "=================================================================\n",
      " dense_17 (Dense)            (None, 50)                4650      \n",
      "                                                                 \n",
      " dense_18 (Dense)            (None, 50)                2550      \n",
      "                                                                 \n",
      " dense_19 (Dense)            (None, 50)                2550      \n",
      "                                                                 \n",
      " dense_20 (Dense)            (None, 50)                2550      \n",
      "                                                                 \n",
      " dense_21 (Dense)            (None, 1)                 51        \n",
      "                                                                 \n",
      "=================================================================\n",
      "Total params: 12,351\n",
      "Trainable params: 12,351\n",
      "Non-trainable params: 0\n",
      "_________________________________________________________________\n"
     ]
    },
    {
     "data": {
      "text/plain": [
       "'\\nNo of trainable parameters for 2 layers, 20 nodes each: 2,301\\nNo of trainable parameters for 4 layers, 50 nodes each: 12,351\\n'"
      ]
     },
     "execution_count": 35,
     "metadata": {},
     "output_type": "execute_result"
    }
   ],
   "source": [
    "model2.summary()\n",
    "model5.summary()\n",
    "\n",
    "\"\"\"\n",
    "No of trainable parameters for 2 layers, 20 nodes each: 2,301\n",
    "No of trainable parameters for 4 layers, 50 nodes each: 12,351\n",
    "\"\"\""
   ]
  },
  {
   "cell_type": "markdown",
   "metadata": {},
   "source": [
    "### 4 layers, 20 nodes, class weights"
   ]
  },
  {
   "cell_type": "code",
   "execution_count": 25,
   "metadata": {
    "scrolled": true
   },
   "outputs": [
    {
     "name": "stdout",
     "output_type": "stream",
     "text": [
      "Epoch 1/20\n",
      "54/54 [==============================] - 3s 19ms/step - loss: 0.7013 - accuracy: 0.4881 - val_loss: 0.7002 - val_accuracy: 0.1597\n",
      "Epoch 2/20\n",
      "54/54 [==============================] - 1s 12ms/step - loss: 0.6945 - accuracy: 0.2666 - val_loss: 0.6975 - val_accuracy: 0.1597\n",
      "Epoch 3/20\n",
      "54/54 [==============================] - 1s 10ms/step - loss: 0.6941 - accuracy: 0.2713 - val_loss: 0.6938 - val_accuracy: 0.1442\n",
      "Epoch 4/20\n",
      "54/54 [==============================] - 0s 9ms/step - loss: 0.6938 - accuracy: 0.3544 - val_loss: 0.6988 - val_accuracy: 0.1597\n",
      "Epoch 5/20\n",
      "54/54 [==============================] - 1s 10ms/step - loss: 0.6935 - accuracy: 0.3067 - val_loss: 0.6949 - val_accuracy: 0.1598\n",
      "Epoch 6/20\n",
      "54/54 [==============================] - 1s 10ms/step - loss: 0.6931 - accuracy: 0.3294 - val_loss: 0.6953 - val_accuracy: 0.1597\n",
      "Epoch 7/20\n",
      "54/54 [==============================] - 1s 10ms/step - loss: 0.6927 - accuracy: 0.3528 - val_loss: 0.6920 - val_accuracy: 0.8806\n",
      "Epoch 8/20\n",
      "54/54 [==============================] - 1s 10ms/step - loss: 0.6923 - accuracy: 0.3659 - val_loss: 0.6907 - val_accuracy: 0.8825\n",
      "Epoch 9/20\n",
      "54/54 [==============================] - 1s 10ms/step - loss: 0.6918 - accuracy: 0.4555 - val_loss: 0.6919 - val_accuracy: 0.8661\n",
      "Epoch 10/20\n",
      "54/54 [==============================] - 1s 10ms/step - loss: 0.6913 - accuracy: 0.5308 - val_loss: 0.6936 - val_accuracy: 0.1597\n",
      "Epoch 11/20\n",
      "54/54 [==============================] - 1s 10ms/step - loss: 0.6906 - accuracy: 0.5434 - val_loss: 0.6914 - val_accuracy: 0.8616\n",
      "Epoch 12/20\n",
      "54/54 [==============================] - 1s 9ms/step - loss: 0.6898 - accuracy: 0.6408 - val_loss: 0.6913 - val_accuracy: 0.8545\n",
      "Epoch 13/20\n",
      "54/54 [==============================] - 1s 10ms/step - loss: 0.6888 - accuracy: 0.7317 - val_loss: 0.6920 - val_accuracy: 0.7082\n",
      "Epoch 14/20\n",
      "54/54 [==============================] - 1s 10ms/step - loss: 0.6876 - accuracy: 0.7603 - val_loss: 0.6880 - val_accuracy: 0.8758\n",
      "Epoch 15/20\n",
      "54/54 [==============================] - 1s 10ms/step - loss: 0.6861 - accuracy: 0.8355 - val_loss: 0.6869 - val_accuracy: 0.8749\n",
      "Epoch 16/20\n",
      "54/54 [==============================] - 1s 9ms/step - loss: 0.6840 - accuracy: 0.8524 - val_loss: 0.6839 - val_accuracy: 0.8783\n",
      "Epoch 17/20\n",
      "54/54 [==============================] - 1s 9ms/step - loss: 0.6813 - accuracy: 0.8741 - val_loss: 0.6833 - val_accuracy: 0.8744\n",
      "Epoch 18/20\n",
      "54/54 [==============================] - 1s 10ms/step - loss: 0.6774 - accuracy: 0.8769 - val_loss: 0.6823 - val_accuracy: 0.8691\n",
      "Epoch 19/20\n",
      "54/54 [==============================] - 0s 9ms/step - loss: 0.6719 - accuracy: 0.8776 - val_loss: 0.6747 - val_accuracy: 0.8761\n",
      "Epoch 20/20\n",
      "54/54 [==============================] - 1s 10ms/step - loss: 0.6634 - accuracy: 0.8776 - val_loss: 0.6561 - val_accuracy: 0.8809\n"
     ]
    }
   ],
   "source": [
    "# Setup some training parameters\n",
    "batch_size = 10000\n",
    "epochs = 20\n",
    "input_shape = (X.shape[1],)\n",
    "\n",
    "# Build and train model\n",
    "model3 = build_DNN(input_shape, 4, 20, act_fun='sigmoid', optimizer='sgd', learning_rate=0.1, use_bn=False, use_dropout=False,\n",
    "                   use_custom_dropout=False)\n",
    "\n",
    "history3 = model3.fit(Xtrain, Ytrain, batch_size, epochs, validation_data = (Xval, Yval), class_weight = class_weights)"
   ]
  },
  {
   "cell_type": "code",
   "execution_count": 26,
   "metadata": {},
   "outputs": [
    {
     "name": "stdout",
     "output_type": "stream",
     "text": [
      "3582/3582 [==============================] - 3s 939us/step - loss: 0.6561 - accuracy: 0.8801\n",
      "Test loss: 0.6561\n",
      "Test accuracy: 0.8801\n"
     ]
    }
   ],
   "source": [
    "# Evaluate model on test data\n",
    "score = model3.evaluate(Xtest, Ytest)\n",
    "\n",
    "print('Test loss: %.4f' % score[0])\n",
    "print('Test accuracy: %.4f' % score[1])"
   ]
  },
  {
   "cell_type": "code",
   "execution_count": 27,
   "metadata": {},
   "outputs": [
    {
     "data": {
      "image/png": "[encoded data removed]",
      "text/plain": [
       "<Figure size 720x288 with 1 Axes>"
      ]
     },
     "metadata": {
      "needs_background": "light"
     },
     "output_type": "display_data"
    },
    {
     "data": {
      "image/png": "[encoded data removed]",
      "text/plain": [
       "<Figure size 720x288 with 1 Axes>"
      ]
     },
     "metadata": {
      "needs_background": "light"
     },
     "output_type": "display_data"
    }
   ],
   "source": [
    "plot_results(history3)"
   ]
  },
  {
   "cell_type": "markdown",
   "metadata": {},
   "source": [
    "### 2 layers, 50 nodes, class weights"
   ]
  },
  {
   "cell_type": "code",
   "execution_count": 28,
   "metadata": {
    "scrolled": true
   },
   "outputs": [
    {
     "name": "stdout",
     "output_type": "stream",
     "text": [
      "Epoch 1/20\n",
      "54/54 [==============================] - 1s 17ms/step - loss: 0.6125 - accuracy: 0.8207 - val_loss: 0.5123 - val_accuracy: 0.8879\n",
      "Epoch 2/20\n",
      "54/54 [==============================] - 1s 14ms/step - loss: 0.4085 - accuracy: 0.8862 - val_loss: 0.3409 - val_accuracy: 0.8845\n",
      "Epoch 3/20\n",
      "54/54 [==============================] - 1s 15ms/step - loss: 0.2749 - accuracy: 0.8856 - val_loss: 0.2852 - val_accuracy: 0.8857\n",
      "Epoch 4/20\n",
      "54/54 [==============================] - 1s 14ms/step - loss: 0.2338 - accuracy: 0.8879 - val_loss: 0.2698 - val_accuracy: 0.8887\n",
      "Epoch 5/20\n",
      "54/54 [==============================] - 1s 14ms/step - loss: 0.2191 - accuracy: 0.8905 - val_loss: 0.2628 - val_accuracy: 0.8906\n",
      "Epoch 6/20\n",
      "54/54 [==============================] - 1s 16ms/step - loss: 0.2112 - accuracy: 0.8924 - val_loss: 0.2577 - val_accuracy: 0.8932\n",
      "Epoch 7/20\n",
      "54/54 [==============================] - 1s 15ms/step - loss: 0.2061 - accuracy: 0.8948 - val_loss: 0.2525 - val_accuracy: 0.8950\n",
      "Epoch 8/20\n",
      "54/54 [==============================] - 1s 15ms/step - loss: 0.2022 - accuracy: 0.8959 - val_loss: 0.2496 - val_accuracy: 0.8957\n",
      "Epoch 9/20\n",
      "54/54 [==============================] - 1s 14ms/step - loss: 0.1991 - accuracy: 0.8966 - val_loss: 0.2470 - val_accuracy: 0.8964\n",
      "Epoch 10/20\n",
      "54/54 [==============================] - 1s 14ms/step - loss: 0.1966 - accuracy: 0.8971 - val_loss: 0.2445 - val_accuracy: 0.8969\n",
      "Epoch 11/20\n",
      "54/54 [==============================] - 1s 14ms/step - loss: 0.1945 - accuracy: 0.8975 - val_loss: 0.2438 - val_accuracy: 0.8971\n",
      "Epoch 12/20\n",
      "54/54 [==============================] - 1s 14ms/step - loss: 0.1926 - accuracy: 0.8979 - val_loss: 0.2404 - val_accuracy: 0.8978\n",
      "Epoch 13/20\n",
      "54/54 [==============================] - 1s 14ms/step - loss: 0.1910 - accuracy: 0.8985 - val_loss: 0.2391 - val_accuracy: 0.8982\n",
      "Epoch 14/20\n",
      "54/54 [==============================] - 1s 14ms/step - loss: 0.1896 - accuracy: 0.8990 - val_loss: 0.2382 - val_accuracy: 0.8988\n",
      "Epoch 15/20\n",
      "54/54 [==============================] - 1s 14ms/step - loss: 0.1884 - accuracy: 0.8996 - val_loss: 0.2365 - val_accuracy: 0.8995\n",
      "Epoch 16/20\n",
      "54/54 [==============================] - 1s 14ms/step - loss: 0.1872 - accuracy: 0.9002 - val_loss: 0.2344 - val_accuracy: 0.9004\n",
      "Epoch 17/20\n",
      "54/54 [==============================] - 1s 15ms/step - loss: 0.1862 - accuracy: 0.9010 - val_loss: 0.2340 - val_accuracy: 0.9012\n",
      "Epoch 18/20\n",
      "54/54 [==============================] - 1s 15ms/step - loss: 0.1853 - accuracy: 0.9018 - val_loss: 0.2335 - val_accuracy: 0.9018\n",
      "Epoch 19/20\n",
      "54/54 [==============================] - 1s 14ms/step - loss: 0.1844 - accuracy: 0.9026 - val_loss: 0.2327 - val_accuracy: 0.9026\n",
      "Epoch 20/20\n",
      "54/54 [==============================] - 1s 15ms/step - loss: 0.1836 - accuracy: 0.9032 - val_loss: 0.2322 - val_accuracy: 0.9031\n"
     ]
    }
   ],
   "source": [
    "# Setup some training parameters\n",
    "batch_size = 10000\n",
    "epochs = 20\n",
    "input_shape = (X.shape[1],)\n",
    "\n",
    "# Build and train model\n",
    "model4 = build_DNN(input_shape, 2, 50, act_fun='sigmoid', optimizer='sgd', learning_rate=0.1, use_bn=False, use_dropout=False,\n",
    "                   use_custom_dropout=False)\n",
    "\n",
    "history4 = model4.fit(Xtrain, Ytrain, batch_size, epochs, validation_data = (Xval, Yval), class_weight = class_weights)"
   ]
  },
  {
   "cell_type": "code",
   "execution_count": 29,
   "metadata": {},
   "outputs": [
    {
     "name": "stdout",
     "output_type": "stream",
     "text": [
      "3582/3582 [==============================] - 4s 993us/step - loss: 0.2338 - accuracy: 0.9021\n",
      "Test loss: 0.2338\n",
      "Test accuracy: 0.9021\n"
     ]
    }
   ],
   "source": [
    "# Evaluate model on test data\n",
    "score = model4.evaluate(Xtest, Ytest)\n",
    "\n",
    "print('Test loss: %.4f' % score[0])\n",
    "print('Test accuracy: %.4f' % score[1])"
   ]
  },
  {
   "cell_type": "code",
   "execution_count": 30,
   "metadata": {},
   "outputs": [
    {
     "data": {
      "image/png": "[encoded data removed]",
      "text/plain": [
       "<Figure size 720x288 with 1 Axes>"
      ]
     },
     "metadata": {
      "needs_background": "light"
     },
     "output_type": "display_data"
    },
    {
     "data": {
      "image/png": "[encoded data removed]",
      "text/plain": [
       "<Figure size 720x288 with 1 Axes>"
      ]
     },
     "metadata": {
      "needs_background": "light"
     },
     "output_type": "display_data"
    }
   ],
   "source": [
    "plot_results(history4)"
   ]
  },
  {
   "cell_type": "markdown",
   "metadata": {},
   "source": [
    "### 4 layers, 50 nodes, class weights"
   ]
  },
  {
   "cell_type": "code",
   "execution_count": 31,
   "metadata": {
    "scrolled": true
   },
   "outputs": [
    {
     "name": "stdout",
     "output_type": "stream",
     "text": [
      "Epoch 1/20\n",
      "54/54 [==============================] - 2s 27ms/step - loss: 0.7006 - accuracy: 0.5525 - val_loss: 0.6934 - val_accuracy: 0.1942\n",
      "Epoch 2/20\n",
      "54/54 [==============================] - 1s 24ms/step - loss: 0.6911 - accuracy: 0.5732 - val_loss: 0.6895 - val_accuracy: 0.8793\n",
      "Epoch 3/20\n",
      "54/54 [==============================] - 1s 22ms/step - loss: 0.6899 - accuracy: 0.6739 - val_loss: 0.6942 - val_accuracy: 0.1598\n",
      "Epoch 4/20\n",
      "54/54 [==============================] - 1s 23ms/step - loss: 0.6885 - accuracy: 0.7033 - val_loss: 0.7026 - val_accuracy: 0.1597\n",
      "Epoch 5/20\n",
      "54/54 [==============================] - 1s 22ms/step - loss: 0.6866 - accuracy: 0.7253 - val_loss: 0.6782 - val_accuracy: 0.8633\n",
      "Epoch 6/20\n",
      "54/54 [==============================] - 1s 22ms/step - loss: 0.6839 - accuracy: 0.8428 - val_loss: 0.6804 - val_accuracy: 0.8827\n",
      "Epoch 7/20\n",
      "54/54 [==============================] - 1s 22ms/step - loss: 0.6801 - accuracy: 0.8766 - val_loss: 0.6807 - val_accuracy: 0.8795\n",
      "Epoch 8/20\n",
      "54/54 [==============================] - 1s 21ms/step - loss: 0.6742 - accuracy: 0.8808 - val_loss: 0.6702 - val_accuracy: 0.8822\n",
      "Epoch 9/20\n",
      "54/54 [==============================] - 1s 23ms/step - loss: 0.6646 - accuracy: 0.8824 - val_loss: 0.6534 - val_accuracy: 0.8855\n",
      "Epoch 10/20\n",
      "54/54 [==============================] - 1s 23ms/step - loss: 0.6472 - accuracy: 0.8826 - val_loss: 0.6267 - val_accuracy: 0.8842\n",
      "Epoch 11/20\n",
      "54/54 [==============================] - 1s 23ms/step - loss: 0.6135 - accuracy: 0.8815 - val_loss: 0.5815 - val_accuracy: 0.8813\n",
      "Epoch 12/20\n",
      "54/54 [==============================] - 1s 21ms/step - loss: 0.5435 - accuracy: 0.8808 - val_loss: 0.5011 - val_accuracy: 0.8795\n",
      "Epoch 13/20\n",
      "54/54 [==============================] - 1s 21ms/step - loss: 0.4210 - accuracy: 0.8805 - val_loss: 0.3647 - val_accuracy: 0.8796\n",
      "Epoch 14/20\n",
      "54/54 [==============================] - 1s 22ms/step - loss: 0.3035 - accuracy: 0.8805 - val_loss: 0.2992 - val_accuracy: 0.8795\n",
      "Epoch 15/20\n",
      "54/54 [==============================] - 1s 22ms/step - loss: 0.2483 - accuracy: 0.8806 - val_loss: 0.2768 - val_accuracy: 0.8802\n",
      "Epoch 16/20\n",
      "54/54 [==============================] - 1s 22ms/step - loss: 0.2277 - accuracy: 0.8818 - val_loss: 0.2672 - val_accuracy: 0.8827\n",
      "Epoch 17/20\n",
      "54/54 [==============================] - 1s 21ms/step - loss: 0.2181 - accuracy: 0.8845 - val_loss: 0.2652 - val_accuracy: 0.8850\n",
      "Epoch 18/20\n",
      "54/54 [==============================] - 1s 22ms/step - loss: 0.2124 - accuracy: 0.8873 - val_loss: 0.2586 - val_accuracy: 0.8882\n",
      "Epoch 19/20\n",
      "54/54 [==============================] - 1s 22ms/step - loss: 0.2082 - accuracy: 0.8901 - val_loss: 0.2553 - val_accuracy: 0.8908\n",
      "Epoch 20/20\n",
      "54/54 [==============================] - 1s 22ms/step - loss: 0.2048 - accuracy: 0.8923 - val_loss: 0.2540 - val_accuracy: 0.8931\n"
     ]
    }
   ],
   "source": [
    "# Setup some training parameters\n",
    "batch_size = 10000\n",
    "epochs = 20\n",
    "input_shape = (X.shape[1],)\n",
    "\n",
    "# Build and train model\n",
    "model5 = build_DNN(input_shape, 4, 50, act_fun='sigmoid', optimizer='sgd', learning_rate=0.1, use_bn=False, use_dropout=False,\n",
    "                   use_custom_dropout=False)\n",
    "\n",
    "history5 = model5.fit(Xtrain, Ytrain, batch_size, epochs, validation_data = (Xval, Yval), class_weight = class_weights)"
   ]
  },
  {
   "cell_type": "code",
   "execution_count": 32,
   "metadata": {},
   "outputs": [
    {
     "name": "stdout",
     "output_type": "stream",
     "text": [
      "3582/3582 [==============================] - 4s 1ms/step - loss: 0.2553 - accuracy: 0.8917\n",
      "Test loss: 0.2553\n",
      "Test accuracy: 0.8917\n"
     ]
    }
   ],
   "source": [
    "# Evaluate model on test data\n",
    "score = model5.evaluate(Xtest, Ytest)\n",
    "\n",
    "print('Test loss: %.4f' % score[0])\n",
    "print('Test accuracy: %.4f' % score[1])"
   ]
  },
  {
   "cell_type": "code",
   "execution_count": 33,
   "metadata": {},
   "outputs": [
    {
     "data": {
      "image/png": "[encoded data removed]",
      "text/plain": [
       "<Figure size 720x288 with 1 Axes>"
      ]
     },
     "metadata": {
      "needs_background": "light"
     },
     "output_type": "display_data"
    },
    {
     "data": {
      "image/png": "[encoded data removed]",
      "text/plain": [
       "<Figure size 720x288 with 1 Axes>"
      ]
     },
     "metadata": {
      "needs_background": "light"
     },
     "output_type": "display_data"
    }
   ],
   "source": [
    "plot_results(history5)"
   ]
  },
  {
   "cell_type": "markdown",
   "metadata": {},
   "source": [
    "# Part 15: Batch normalization\n",
    "\n",
    "Now add batch normalization after each dense layer in `build_DNN`. Remember to import BatchNormalization from keras.layers. \n",
    "\n",
    "See https://keras.io/layers/normalization/ for information about how to call the function.\n",
    "\n",
    "Question 14: Why is batch normalization important when training deep networks?"
   ]
  },
  {
   "cell_type": "code",
   "execution_count": 36,
   "metadata": {},
   "outputs": [
    {
     "data": {
      "text/plain": [
       "'\\nUsing batch normalization speeds up the training of deep networks because without batch normalization, the\\ninputs of the subsequent layers can be impacted more resulting in variation in the gradients that can cause\\nopposing learning parameters.\\n'"
      ]
     },
     "execution_count": 36,
     "metadata": {},
     "output_type": "execute_result"
    }
   ],
   "source": [
    "\"\"\"\n",
    "Using batch normalization speeds up the training of deep networks because without batch normalization, the\n",
    "inputs of the subsequent layers can be impacted more resulting in variation in the gradients that can cause\n",
    "opposing learning parameters.\n",
    "\"\"\""
   ]
  },
  {
   "cell_type": "markdown",
   "metadata": {},
   "source": [
    "### 2 layers, 20 nodes, class weights, batch normalization"
   ]
  },
  {
   "cell_type": "code",
   "execution_count": 37,
   "metadata": {
    "scrolled": true
   },
   "outputs": [
    {
     "name": "stdout",
     "output_type": "stream",
     "text": [
      "Epoch 1/20\n",
      "54/54 [==============================] - 1s 14ms/step - loss: 0.2981 - accuracy: 0.8805 - val_loss: 0.4205 - val_accuracy: 0.8403\n",
      "Epoch 2/20\n",
      "54/54 [==============================] - 1s 11ms/step - loss: 0.2103 - accuracy: 0.9048 - val_loss: 0.3465 - val_accuracy: 0.8403\n",
      "Epoch 3/20\n",
      "54/54 [==============================] - 1s 12ms/step - loss: 0.1946 - accuracy: 0.9088 - val_loss: 0.2946 - val_accuracy: 0.8404\n",
      "Epoch 4/20\n",
      "54/54 [==============================] - 1s 12ms/step - loss: 0.1871 - accuracy: 0.9107 - val_loss: 0.2412 - val_accuracy: 0.8485\n",
      "Epoch 5/20\n",
      "54/54 [==============================] - 1s 11ms/step - loss: 0.1824 - accuracy: 0.9122 - val_loss: 0.1997 - val_accuracy: 0.8813\n",
      "Epoch 6/20\n",
      "54/54 [==============================] - 1s 11ms/step - loss: 0.1791 - accuracy: 0.9131 - val_loss: 0.1804 - val_accuracy: 0.9125\n",
      "Epoch 7/20\n",
      "54/54 [==============================] - 1s 12ms/step - loss: 0.1767 - accuracy: 0.9137 - val_loss: 0.1809 - val_accuracy: 0.9148\n",
      "Epoch 8/20\n",
      "54/54 [==============================] - 1s 12ms/step - loss: 0.1747 - accuracy: 0.9142 - val_loss: 0.1936 - val_accuracy: 0.9148\n",
      "Epoch 9/20\n",
      "54/54 [==============================] - 1s 11ms/step - loss: 0.1731 - accuracy: 0.9146 - val_loss: 0.2038 - val_accuracy: 0.9145\n",
      "Epoch 10/20\n",
      "54/54 [==============================] - 1s 12ms/step - loss: 0.1717 - accuracy: 0.9149 - val_loss: 0.2027 - val_accuracy: 0.9147\n",
      "Epoch 11/20\n",
      "54/54 [==============================] - 1s 12ms/step - loss: 0.1706 - accuracy: 0.9151 - val_loss: 0.2110 - val_accuracy: 0.9148\n",
      "Epoch 12/20\n",
      "54/54 [==============================] - 1s 12ms/step - loss: 0.1695 - accuracy: 0.9154 - val_loss: 0.2136 - val_accuracy: 0.9149\n",
      "Epoch 13/20\n",
      "54/54 [==============================] - 1s 11ms/step - loss: 0.1685 - accuracy: 0.9155 - val_loss: 0.2122 - val_accuracy: 0.9149\n",
      "Epoch 14/20\n",
      "54/54 [==============================] - 1s 11ms/step - loss: 0.1676 - accuracy: 0.9157 - val_loss: 0.2124 - val_accuracy: 0.9151\n",
      "Epoch 15/20\n",
      "54/54 [==============================] - 1s 11ms/step - loss: 0.1669 - accuracy: 0.9158 - val_loss: 0.2095 - val_accuracy: 0.9151\n",
      "Epoch 16/20\n",
      "54/54 [==============================] - 1s 11ms/step - loss: 0.1660 - accuracy: 0.9159 - val_loss: 0.2122 - val_accuracy: 0.9152\n",
      "Epoch 17/20\n",
      "54/54 [==============================] - 1s 11ms/step - loss: 0.1652 - accuracy: 0.9160 - val_loss: 0.2004 - val_accuracy: 0.9157\n",
      "Epoch 18/20\n",
      "54/54 [==============================] - 1s 11ms/step - loss: 0.1646 - accuracy: 0.9162 - val_loss: 0.2241 - val_accuracy: 0.9152\n",
      "Epoch 19/20\n",
      "54/54 [==============================] - 1s 11ms/step - loss: 0.1639 - accuracy: 0.9163 - val_loss: 0.2098 - val_accuracy: 0.9155\n",
      "Epoch 20/20\n",
      "54/54 [==============================] - 1s 11ms/step - loss: 0.1633 - accuracy: 0.9164 - val_loss: 0.2049 - val_accuracy: 0.9158\n"
     ]
    }
   ],
   "source": [
    "# Setup some training parameters\n",
    "batch_size = 10000\n",
    "epochs = 20\n",
    "input_shape = (X.shape[1],)\n",
    "\n",
    "# Build and train model\n",
    "model6 = build_DNN(input_shape, 2, 20, act_fun='sigmoid', optimizer='sgd', learning_rate=0.1, use_bn=True, use_dropout=False,\n",
    "                   use_custom_dropout=False)\n",
    "\n",
    "history6 = model6.fit(Xtrain, Ytrain, batch_size, epochs, validation_data = (Xval, Yval), class_weight = class_weights)"
   ]
  },
  {
   "cell_type": "code",
   "execution_count": 38,
   "metadata": {},
   "outputs": [
    {
     "name": "stdout",
     "output_type": "stream",
     "text": [
      "3582/3582 [==============================] - 4s 1ms/step - loss: 0.2074 - accuracy: 0.9149\n",
      "Test loss: 0.2074\n",
      "Test accuracy: 0.9149\n"
     ]
    }
   ],
   "source": [
    "# Evaluate model on test data\n",
    "score = model6.evaluate(Xtest, Ytest)\n",
    "\n",
    "print('Test loss: %.4f' % score[0])\n",
    "print('Test accuracy: %.4f' % score[1])"
   ]
  },
  {
   "cell_type": "code",
   "execution_count": 39,
   "metadata": {
    "tags": []
   },
   "outputs": [
    {
     "data": {
      "image/png": "[encoded data removed]",
      "text/plain": [
       "<Figure size 720x288 with 1 Axes>"
      ]
     },
     "metadata": {
      "needs_background": "light"
     },
     "output_type": "display_data"
    },
    {
     "data": {
      "image/png": "[encoded data removed]",
      "text/plain": [
       "<Figure size 720x288 with 1 Axes>"
      ]
     },
     "metadata": {
      "needs_background": "light"
     },
     "output_type": "display_data"
    }
   ],
   "source": [
    "plot_results(history6)"
   ]
  },
  {
   "cell_type": "markdown",
   "metadata": {},
   "source": [
    "# Part 16: Activation function\n",
    "\n",
    "Try changing the activation function in each layer from sigmoid to ReLU, write down the test accuracy.\n",
    "\n",
    "Note: the last layer should still have a sigmoid activation function.\n",
    "\n",
    "https://keras.io/api/layers/activations/"
   ]
  },
  {
   "cell_type": "markdown",
   "metadata": {},
   "source": [
    "### 2 layers, 20 nodes, class weights, ReLU, no batch normalization"
   ]
  },
  {
   "cell_type": "code",
   "execution_count": 40,
   "metadata": {
    "scrolled": true
   },
   "outputs": [
    {
     "name": "stdout",
     "output_type": "stream",
     "text": [
      "Epoch 1/20\n",
      "54/54 [==============================] - 1s 11ms/step - loss: 0.3370 - accuracy: 0.8567 - val_loss: 0.2794 - val_accuracy: 0.8790\n",
      "Epoch 2/20\n",
      "54/54 [==============================] - 1s 10ms/step - loss: 0.2085 - accuracy: 0.8826 - val_loss: 0.2547 - val_accuracy: 0.8850\n",
      "Epoch 3/20\n",
      "54/54 [==============================] - 0s 9ms/step - loss: 0.1958 - accuracy: 0.8892 - val_loss: 0.2470 - val_accuracy: 0.8920\n",
      "Epoch 4/20\n",
      "54/54 [==============================] - 0s 8ms/step - loss: 0.1900 - accuracy: 0.8954 - val_loss: 0.2402 - val_accuracy: 0.8975\n",
      "Epoch 5/20\n",
      "54/54 [==============================] - 0s 8ms/step - loss: 0.1861 - accuracy: 0.8989 - val_loss: 0.2366 - val_accuracy: 0.9004\n",
      "Epoch 6/20\n",
      "54/54 [==============================] - 0s 9ms/step - loss: 0.1830 - accuracy: 0.9034 - val_loss: 0.2356 - val_accuracy: 0.9040\n",
      "Epoch 7/20\n",
      "54/54 [==============================] - 0s 8ms/step - loss: 0.1804 - accuracy: 0.9050 - val_loss: 0.2276 - val_accuracy: 0.9056\n",
      "Epoch 8/20\n",
      "54/54 [==============================] - 0s 8ms/step - loss: 0.1783 - accuracy: 0.9060 - val_loss: 0.2293 - val_accuracy: 0.9062\n",
      "Epoch 9/20\n",
      "54/54 [==============================] - 0s 8ms/step - loss: 0.1764 - accuracy: 0.9066 - val_loss: 0.2254 - val_accuracy: 0.9069\n",
      "Epoch 10/20\n",
      "54/54 [==============================] - 0s 8ms/step - loss: 0.1748 - accuracy: 0.9073 - val_loss: 0.2246 - val_accuracy: 0.9074\n",
      "Epoch 11/20\n",
      "54/54 [==============================] - 0s 8ms/step - loss: 0.1732 - accuracy: 0.9093 - val_loss: 0.2242 - val_accuracy: 0.9094\n",
      "Epoch 12/20\n",
      "54/54 [==============================] - 0s 8ms/step - loss: 0.1719 - accuracy: 0.9105 - val_loss: 0.2178 - val_accuracy: 0.9109\n",
      "Epoch 13/20\n",
      "54/54 [==============================] - 0s 8ms/step - loss: 0.1707 - accuracy: 0.9116 - val_loss: 0.2193 - val_accuracy: 0.9116\n",
      "Epoch 14/20\n",
      "54/54 [==============================] - 0s 8ms/step - loss: 0.1696 - accuracy: 0.9126 - val_loss: 0.2162 - val_accuracy: 0.9127\n",
      "Epoch 15/20\n",
      "54/54 [==============================] - 0s 7ms/step - loss: 0.1688 - accuracy: 0.9133 - val_loss: 0.2160 - val_accuracy: 0.9130\n",
      "Epoch 16/20\n",
      "54/54 [==============================] - 0s 8ms/step - loss: 0.1679 - accuracy: 0.9138 - val_loss: 0.2170 - val_accuracy: 0.9133\n",
      "Epoch 17/20\n",
      "54/54 [==============================] - 0s 8ms/step - loss: 0.1672 - accuracy: 0.9142 - val_loss: 0.2134 - val_accuracy: 0.9140\n",
      "Epoch 18/20\n",
      "54/54 [==============================] - 0s 8ms/step - loss: 0.1665 - accuracy: 0.9153 - val_loss: 0.2115 - val_accuracy: 0.9154\n",
      "Epoch 19/20\n",
      "54/54 [==============================] - 0s 8ms/step - loss: 0.1658 - accuracy: 0.9159 - val_loss: 0.2129 - val_accuracy: 0.9155\n",
      "Epoch 20/20\n",
      "54/54 [==============================] - 0s 8ms/step - loss: 0.1653 - accuracy: 0.9161 - val_loss: 0.2100 - val_accuracy: 0.9157\n"
     ]
    }
   ],
   "source": [
    "# Setup some training parameters\n",
    "batch_size = 10000\n",
    "epochs = 20\n",
    "input_shape = (X.shape[1],)\n",
    "\n",
    "# Build and train model\n",
    "model7 = build_DNN(input_shape, 2, 20, act_fun='relu', optimizer='sgd', learning_rate=0.1, use_bn=False, use_dropout=False,\n",
    "                   use_custom_dropout=False)\n",
    "\n",
    "history7 = model7.fit(Xtrain, Ytrain, batch_size, epochs, validation_data = (Xval, Yval), class_weight = class_weights)"
   ]
  },
  {
   "cell_type": "code",
   "execution_count": 41,
   "metadata": {},
   "outputs": [
    {
     "name": "stdout",
     "output_type": "stream",
     "text": [
      "3582/3582 [==============================] - 3s 942us/step - loss: 0.2118 - accuracy: 0.9145\n",
      "Test loss: 0.2118\n",
      "Test accuracy: 0.9145\n"
     ]
    }
   ],
   "source": [
    "# Evaluate model on test data\n",
    "score = model7.evaluate(Xtest, Ytest)\n",
    "\n",
    "print('Test loss: %.4f' % score[0])\n",
    "print('Test accuracy: %.4f' % score[1])"
   ]
  },
  {
   "cell_type": "code",
   "execution_count": 42,
   "metadata": {},
   "outputs": [
    {
     "data": {
      "image/png": "[encoded data removed]",
      "text/plain": [
       "<Figure size 720x288 with 1 Axes>"
      ]
     },
     "metadata": {
      "needs_background": "light"
     },
     "output_type": "display_data"
    },
    {
     "data": {
      "image/png": "[encoded data removed]",
      "text/plain": [
       "<Figure size 720x288 with 1 Axes>"
      ]
     },
     "metadata": {
      "needs_background": "light"
     },
     "output_type": "display_data"
    }
   ],
   "source": [
    "plot_results(history7)"
   ]
  },
  {
   "cell_type": "markdown",
   "metadata": {},
   "source": [
    "# Part 17: Optimizer\n",
    "\n",
    "Try changing the optimizer from SGD to Adam (with learning rate 0.1 as before). Remember to import the Adam optimizer from keras.optimizers. \n",
    "\n",
    "https://keras.io/optimizers/\n"
   ]
  },
  {
   "cell_type": "markdown",
   "metadata": {},
   "source": [
    "### 2 layers, 20 nodes, class weights, Adam optimizer, no batch normalization, sigmoid activations"
   ]
  },
  {
   "cell_type": "code",
   "execution_count": 43,
   "metadata": {
    "scrolled": true
   },
   "outputs": [
    {
     "name": "stdout",
     "output_type": "stream",
     "text": [
      "Epoch 1/20\n",
      "54/54 [==============================] - 1s 10ms/step - loss: 0.2234 - accuracy: 0.8881 - val_loss: 0.2212 - val_accuracy: 0.9141\n",
      "Epoch 2/20\n",
      "54/54 [==============================] - 0s 9ms/step - loss: 0.1677 - accuracy: 0.9162 - val_loss: 0.2119 - val_accuracy: 0.9168\n",
      "Epoch 3/20\n",
      "54/54 [==============================] - 0s 8ms/step - loss: 0.1637 - accuracy: 0.9181 - val_loss: 0.2122 - val_accuracy: 0.9187\n",
      "Epoch 4/20\n",
      "54/54 [==============================] - 0s 9ms/step - loss: 0.1605 - accuracy: 0.9197 - val_loss: 0.2039 - val_accuracy: 0.9192\n",
      "Epoch 5/20\n",
      "54/54 [==============================] - 0s 8ms/step - loss: 0.1591 - accuracy: 0.9202 - val_loss: 0.1982 - val_accuracy: 0.9200\n",
      "Epoch 6/20\n",
      "54/54 [==============================] - 0s 8ms/step - loss: 0.1557 - accuracy: 0.9210 - val_loss: 0.1987 - val_accuracy: 0.9205\n",
      "Epoch 7/20\n",
      "54/54 [==============================] - 0s 8ms/step - loss: 0.1537 - accuracy: 0.9209 - val_loss: 0.1993 - val_accuracy: 0.9200\n",
      "Epoch 8/20\n",
      "54/54 [==============================] - 0s 8ms/step - loss: 0.1528 - accuracy: 0.9212 - val_loss: 0.2130 - val_accuracy: 0.9208\n",
      "Epoch 9/20\n",
      "54/54 [==============================] - 0s 8ms/step - loss: 0.1506 - accuracy: 0.9220 - val_loss: 0.1898 - val_accuracy: 0.9223\n",
      "Epoch 10/20\n",
      "54/54 [==============================] - 0s 8ms/step - loss: 0.1493 - accuracy: 0.9237 - val_loss: 0.1840 - val_accuracy: 0.9265\n",
      "Epoch 11/20\n",
      "54/54 [==============================] - 0s 8ms/step - loss: 0.1470 - accuracy: 0.9252 - val_loss: 0.1756 - val_accuracy: 0.9267\n",
      "Epoch 12/20\n",
      "54/54 [==============================] - 0s 9ms/step - loss: 0.1396 - accuracy: 0.9287 - val_loss: 0.1823 - val_accuracy: 0.9320\n",
      "Epoch 13/20\n",
      "54/54 [==============================] - 0s 7ms/step - loss: 0.1535 - accuracy: 0.9220 - val_loss: 0.1971 - val_accuracy: 0.9211\n",
      "Epoch 14/20\n",
      "54/54 [==============================] - 0s 7ms/step - loss: 0.1514 - accuracy: 0.9216 - val_loss: 0.1953 - val_accuracy: 0.9196\n",
      "Epoch 15/20\n",
      "54/54 [==============================] - 0s 7ms/step - loss: 0.1503 - accuracy: 0.9213 - val_loss: 0.1898 - val_accuracy: 0.9208\n",
      "Epoch 16/20\n",
      "54/54 [==============================] - 0s 7ms/step - loss: 0.1492 - accuracy: 0.9217 - val_loss: 0.1904 - val_accuracy: 0.9211\n",
      "Epoch 17/20\n",
      "54/54 [==============================] - 0s 7ms/step - loss: 0.1471 - accuracy: 0.9220 - val_loss: 0.1804 - val_accuracy: 0.9223\n",
      "Epoch 18/20\n",
      "54/54 [==============================] - 0s 7ms/step - loss: 0.1435 - accuracy: 0.9228 - val_loss: 0.1781 - val_accuracy: 0.9221\n",
      "Epoch 19/20\n",
      "54/54 [==============================] - 0s 7ms/step - loss: 0.1444 - accuracy: 0.9227 - val_loss: 0.1665 - val_accuracy: 0.9233\n",
      "Epoch 20/20\n",
      "54/54 [==============================] - 0s 7ms/step - loss: 0.1391 - accuracy: 0.9269 - val_loss: 0.2105 - val_accuracy: 0.9222\n"
     ]
    }
   ],
   "source": [
    "# Setup some training parameters\n",
    "batch_size = 10000\n",
    "epochs = 20\n",
    "input_shape = (X.shape[1],)\n",
    "\n",
    "# Build and train model\n",
    "model8 = build_DNN(input_shape, 2, 20, act_fun='sigmoid', optimizer='adam', learning_rate=0.1, use_bn=False, use_dropout=False,\n",
    "                   use_custom_dropout=False)\n",
    "\n",
    "history8 = model8.fit(Xtrain, Ytrain, batch_size, epochs, validation_data = (Xval, Yval), class_weight = class_weights)"
   ]
  },
  {
   "cell_type": "code",
   "execution_count": 44,
   "metadata": {},
   "outputs": [
    {
     "name": "stdout",
     "output_type": "stream",
     "text": [
      "3582/3582 [==============================] - 3s 907us/step - loss: 0.2118 - accuracy: 0.9211\n",
      "Test loss: 0.2118\n",
      "Test accuracy: 0.9211\n"
     ]
    }
   ],
   "source": [
    "# Evaluate model on test data\n",
    "score = model8.evaluate(Xtest, Ytest)\n",
    "\n",
    "print('Test loss: %.4f' % score[0])\n",
    "print('Test accuracy: %.4f' % score[1])"
   ]
  },
  {
   "cell_type": "code",
   "execution_count": 45,
   "metadata": {},
   "outputs": [
    {
     "data": {
      "image/png": "[encoded data removed]",
      "text/plain": [
       "<Figure size 720x288 with 1 Axes>"
      ]
     },
     "metadata": {
      "needs_background": "light"
     },
     "output_type": "display_data"
    },
    {
     "data": {
      "image/png": "[encoded data removed]",
      "text/plain": [
       "<Figure size 720x288 with 1 Axes>"
      ]
     },
     "metadata": {
      "needs_background": "light"
     },
     "output_type": "display_data"
    }
   ],
   "source": [
    "plot_results(history8)"
   ]
  },
  {
   "cell_type": "markdown",
   "metadata": {},
   "source": [
    "# Part 18: Dropout regularization\n",
    "\n",
    "Dropout is a type of regularization that can improve accuracy for validation and test data. \n",
    "\n",
    "Add a Dropout layer after each Dense layer (but not after the final dense layer) in `build_DNN`, with a dropout probability of 50%. Remember to first import the Dropout layer from keras.layers\n",
    "\n",
    "See https://keras.io/api/layers/regularization_layers/dropout/ for how the Dropout layer works.\n",
    "\n",
    "---\n",
    "\n",
    "Question 15: How does the validation accuracy change when adding dropout?\n",
    "\n",
    "Question 16: How does the test accuracy change when adding dropout?"
   ]
  },
  {
   "cell_type": "markdown",
   "metadata": {},
   "source": [
    "### 2 layers, 20 nodes, class weights, dropout, SGD optimizer, no batch normalization, sigmoid activations"
   ]
  },
  {
   "cell_type": "code",
   "execution_count": 49,
   "metadata": {
    "scrolled": true
   },
   "outputs": [
    {
     "name": "stdout",
     "output_type": "stream",
     "text": [
      "Epoch 1/20\n",
      "54/54 [==============================] - 1s 14ms/step - loss: 0.6924 - accuracy: 0.5838 - val_loss: 0.6035 - val_accuracy: 0.8768\n",
      "Epoch 2/20\n",
      "54/54 [==============================] - 1s 11ms/step - loss: 0.6145 - accuracy: 0.6713 - val_loss: 0.5243 - val_accuracy: 0.8788\n",
      "Epoch 3/20\n",
      "54/54 [==============================] - 1s 11ms/step - loss: 0.5378 - accuracy: 0.7481 - val_loss: 0.4304 - val_accuracy: 0.8785\n",
      "Epoch 4/20\n",
      "54/54 [==============================] - 1s 12ms/step - loss: 0.4677 - accuracy: 0.7926 - val_loss: 0.3597 - val_accuracy: 0.8785\n",
      "Epoch 5/20\n",
      "54/54 [==============================] - 1s 11ms/step - loss: 0.4122 - accuracy: 0.8205 - val_loss: 0.3187 - val_accuracy: 0.8786\n",
      "Epoch 6/20\n",
      "54/54 [==============================] - 1s 11ms/step - loss: 0.3748 - accuracy: 0.8363 - val_loss: 0.2982 - val_accuracy: 0.8788\n",
      "Epoch 7/20\n",
      "54/54 [==============================] - 1s 11ms/step - loss: 0.3482 - accuracy: 0.8466 - val_loss: 0.2889 - val_accuracy: 0.8788\n",
      "Epoch 8/20\n",
      "54/54 [==============================] - 1s 11ms/step - loss: 0.3284 - accuracy: 0.8542 - val_loss: 0.2842 - val_accuracy: 0.8790\n",
      "Epoch 9/20\n",
      "54/54 [==============================] - 1s 11ms/step - loss: 0.3159 - accuracy: 0.8590 - val_loss: 0.2816 - val_accuracy: 0.8791\n",
      "Epoch 10/20\n",
      "54/54 [==============================] - 1s 11ms/step - loss: 0.3055 - accuracy: 0.8617 - val_loss: 0.2797 - val_accuracy: 0.8791\n",
      "Epoch 11/20\n",
      "54/54 [==============================] - 1s 11ms/step - loss: 0.2973 - accuracy: 0.8650 - val_loss: 0.2790 - val_accuracy: 0.8791\n",
      "Epoch 12/20\n",
      "54/54 [==============================] - 1s 11ms/step - loss: 0.2897 - accuracy: 0.8667 - val_loss: 0.2779 - val_accuracy: 0.8791\n",
      "Epoch 13/20\n",
      "54/54 [==============================] - 1s 11ms/step - loss: 0.2843 - accuracy: 0.8684 - val_loss: 0.2765 - val_accuracy: 0.8791\n",
      "Epoch 14/20\n",
      "54/54 [==============================] - 1s 11ms/step - loss: 0.2793 - accuracy: 0.8696 - val_loss: 0.2761 - val_accuracy: 0.8791\n",
      "Epoch 15/20\n",
      "54/54 [==============================] - 1s 11ms/step - loss: 0.2748 - accuracy: 0.8709 - val_loss: 0.2745 - val_accuracy: 0.8791\n",
      "Epoch 16/20\n",
      "54/54 [==============================] - 1s 12ms/step - loss: 0.2709 - accuracy: 0.8718 - val_loss: 0.2738 - val_accuracy: 0.8791\n",
      "Epoch 17/20\n",
      "54/54 [==============================] - 1s 12ms/step - loss: 0.2677 - accuracy: 0.8722 - val_loss: 0.2735 - val_accuracy: 0.8791\n",
      "Epoch 18/20\n",
      "54/54 [==============================] - 1s 12ms/step - loss: 0.2640 - accuracy: 0.8735 - val_loss: 0.2730 - val_accuracy: 0.8791\n",
      "Epoch 19/20\n",
      "54/54 [==============================] - 1s 12ms/step - loss: 0.2604 - accuracy: 0.8742 - val_loss: 0.2721 - val_accuracy: 0.8791\n",
      "Epoch 20/20\n",
      "54/54 [==============================] - 1s 11ms/step - loss: 0.2584 - accuracy: 0.8746 - val_loss: 0.2714 - val_accuracy: 0.8791\n"
     ]
    }
   ],
   "source": [
    "# Setup some training parameters\n",
    "batch_size = 10000\n",
    "epochs = 20\n",
    "input_shape = (X.shape[1],)\n",
    "\n",
    "# Build and train model\n",
    "model9 = build_DNN(input_shape, 2, 20, act_fun='sigmoid', optimizer='sgd', learning_rate=0.1, use_bn=False, use_dropout=True,\n",
    "                   use_custom_dropout=False)\n",
    "\n",
    "history9 = model9.fit(Xtrain, Ytrain, batch_size, epochs, validation_data = (Xval, Yval), class_weight = class_weights)"
   ]
  },
  {
   "cell_type": "code",
   "execution_count": 50,
   "metadata": {},
   "outputs": [
    {
     "name": "stdout",
     "output_type": "stream",
     "text": [
      "3582/3582 [==============================] - 4s 1ms/step - loss: 0.2728 - accuracy: 0.8782\n",
      "Test loss: 0.2728\n",
      "Test accuracy: 0.8782\n"
     ]
    }
   ],
   "source": [
    "# Evaluate model on test data\n",
    "score = model9.evaluate(Xtest, Ytest)\n",
    "\n",
    "print('Test loss: %.4f' % score[0])\n",
    "print('Test accuracy: %.4f' % score[1])"
   ]
  },
  {
   "cell_type": "code",
   "execution_count": 51,
   "metadata": {},
   "outputs": [
    {
     "data": {
      "image/png": "[encoded data removed]",
      "text/plain": [
       "<Figure size 720x288 with 1 Axes>"
      ]
     },
     "metadata": {
      "needs_background": "light"
     },
     "output_type": "display_data"
    },
    {
     "data": {
      "image/png": "[encoded data removed]",
      "text/plain": [
       "<Figure size 720x288 with 1 Axes>"
      ]
     },
     "metadata": {
      "needs_background": "light"
     },
     "output_type": "display_data"
    }
   ],
   "source": [
    "plot_results(history9)"
   ]
  },
  {
   "cell_type": "code",
   "execution_count": 53,
   "metadata": {},
   "outputs": [
    {
     "data": {
      "text/plain": [
       "'\\nQ15. \\nValidation accuracy without dropout: 0.9008\\nValidation accuracy with dropout: 0.8791\\n\\nQ16.\\nTest accuracy without dropout: 0.8999\\nTest accuracy with dropout: 0.8782\\n'"
      ]
     },
     "execution_count": 53,
     "metadata": {},
     "output_type": "execute_result"
    }
   ],
   "source": [
    "\"\"\"\n",
    "Q15. \n",
    "Validation accuracy without dropout: 0.9008\n",
    "Validation accuracy with dropout: 0.8791\n",
    "\n",
    "Q16.\n",
    "Test accuracy without dropout: 0.8999\n",
    "Test accuracy with dropout: 0.8782\n",
    "\"\"\""
   ]
  },
  {
   "cell_type": "markdown",
   "metadata": {},
   "source": [
    "# Part 19: Improving performance\n",
    "\n",
    "Spend some time (30 - 90 minutes) playing with the network architecture (number of layers, number of nodes per layer, activation function) and other hyper parameters (optimizer, learning rate, batch size, number of epochs, degree of regularization). For example, try a much deeper network. How much does the training time increase for a network with 10 layers?\n",
    "\n",
    "Question 17: How high classification accuracy can you achieve for the test data? What is your best configuration?"
   ]
  },
  {
   "cell_type": "code",
   "execution_count": 105,
   "metadata": {
    "scrolled": true
   },
   "outputs": [
    {
     "name": "stdout",
     "output_type": "stream",
     "text": [
      "Epoch 1/30\n",
      "107/107 [==============================] - 4s 20ms/step - loss: 0.2186 - accuracy: 0.8999 - val_loss: 0.9381 - val_accuracy: 0.9025\n",
      "Epoch 2/30\n",
      "107/107 [==============================] - 2s 19ms/step - loss: 0.1747 - accuracy: 0.9143 - val_loss: 1.2211 - val_accuracy: 0.8996\n",
      "Epoch 3/30\n",
      "107/107 [==============================] - 2s 18ms/step - loss: 0.1655 - accuracy: 0.9168 - val_loss: 1.1369 - val_accuracy: 0.9135\n",
      "Epoch 4/30\n",
      "107/107 [==============================] - 2s 19ms/step - loss: 0.1609 - accuracy: 0.9185 - val_loss: 0.4018 - val_accuracy: 0.9156\n",
      "Epoch 5/30\n",
      "107/107 [==============================] - 2s 18ms/step - loss: 0.1558 - accuracy: 0.9202 - val_loss: 0.2264 - val_accuracy: 0.9183\n",
      "Epoch 6/30\n",
      "107/107 [==============================] - 2s 17ms/step - loss: 0.1518 - accuracy: 0.9215 - val_loss: 0.3866 - val_accuracy: 0.9173\n",
      "Epoch 7/30\n",
      "107/107 [==============================] - 2s 18ms/step - loss: 0.1472 - accuracy: 0.9247 - val_loss: 0.4825 - val_accuracy: 0.9162\n",
      "Epoch 8/30\n",
      "107/107 [==============================] - 2s 19ms/step - loss: 0.1443 - accuracy: 0.9266 - val_loss: 0.1981 - val_accuracy: 0.9308\n",
      "Epoch 9/30\n",
      "107/107 [==============================] - 2s 18ms/step - loss: 0.1411 - accuracy: 0.9286 - val_loss: 0.2076 - val_accuracy: 0.9266\n",
      "Epoch 10/30\n",
      "107/107 [==============================] - 2s 18ms/step - loss: 0.1386 - accuracy: 0.9307 - val_loss: 0.2910 - val_accuracy: 0.9296\n",
      "Epoch 11/30\n",
      "107/107 [==============================] - 2s 18ms/step - loss: 0.1337 - accuracy: 0.9319 - val_loss: 0.2289 - val_accuracy: 0.9351\n",
      "Epoch 12/30\n",
      "107/107 [==============================] - 2s 19ms/step - loss: 0.1325 - accuracy: 0.9331 - val_loss: 0.3366 - val_accuracy: 0.9225\n",
      "Epoch 13/30\n",
      "107/107 [==============================] - 2s 18ms/step - loss: 0.1326 - accuracy: 0.9327 - val_loss: 0.2338 - val_accuracy: 0.9327\n",
      "Epoch 14/30\n",
      "107/107 [==============================] - 2s 18ms/step - loss: 0.1299 - accuracy: 0.9338 - val_loss: 0.2171 - val_accuracy: 0.9355\n",
      "Epoch 15/30\n",
      "107/107 [==============================] - 2s 18ms/step - loss: 0.1304 - accuracy: 0.9339 - val_loss: 0.1953 - val_accuracy: 0.9360\n",
      "Epoch 16/30\n",
      "107/107 [==============================] - 2s 18ms/step - loss: 0.1286 - accuracy: 0.9345 - val_loss: 0.2429 - val_accuracy: 0.9225\n",
      "Epoch 17/30\n",
      "107/107 [==============================] - 2s 18ms/step - loss: 0.1281 - accuracy: 0.9348 - val_loss: 0.3155 - val_accuracy: 0.9295\n",
      "Epoch 18/30\n",
      "107/107 [==============================] - 2s 18ms/step - loss: 0.1276 - accuracy: 0.9348 - val_loss: 0.1569 - val_accuracy: 0.9367\n",
      "Epoch 19/30\n",
      "107/107 [==============================] - 2s 18ms/step - loss: 0.1266 - accuracy: 0.9351 - val_loss: 0.1565 - val_accuracy: 0.9361\n",
      "Epoch 20/30\n",
      "107/107 [==============================] - 2s 18ms/step - loss: 0.1259 - accuracy: 0.9356 - val_loss: 0.2264 - val_accuracy: 0.9230\n",
      "Epoch 21/30\n",
      "107/107 [==============================] - 2s 18ms/step - loss: 0.1262 - accuracy: 0.9354 - val_loss: 0.1477 - val_accuracy: 0.9385\n",
      "Epoch 22/30\n",
      "107/107 [==============================] - 2s 19ms/step - loss: 0.1247 - accuracy: 0.9359 - val_loss: 0.1445 - val_accuracy: 0.9311\n",
      "Epoch 23/30\n",
      "107/107 [==============================] - 2s 18ms/step - loss: 0.1256 - accuracy: 0.9357 - val_loss: 0.1336 - val_accuracy: 0.9380\n",
      "Epoch 24/30\n",
      "107/107 [==============================] - 2s 18ms/step - loss: 0.1239 - accuracy: 0.9360 - val_loss: 0.2026 - val_accuracy: 0.9312\n",
      "Epoch 25/30\n",
      "107/107 [==============================] - 2s 18ms/step - loss: 0.1248 - accuracy: 0.9358 - val_loss: 0.1678 - val_accuracy: 0.9304\n",
      "Epoch 26/30\n",
      "107/107 [==============================] - 2s 19ms/step - loss: 0.1237 - accuracy: 0.9361 - val_loss: 0.2944 - val_accuracy: 0.9344\n",
      "Epoch 27/30\n",
      "107/107 [==============================] - 3s 24ms/step - loss: 0.1235 - accuracy: 0.9362 - val_loss: 0.2145 - val_accuracy: 0.9333\n",
      "Epoch 28/30\n",
      "107/107 [==============================] - 2s 21ms/step - loss: 0.1228 - accuracy: 0.9362 - val_loss: 0.1884 - val_accuracy: 0.9360\n",
      "Epoch 29/30\n",
      "107/107 [==============================] - 2s 19ms/step - loss: 0.1224 - accuracy: 0.9365 - val_loss: 0.3462 - val_accuracy: 0.9332\n",
      "Epoch 30/30\n",
      "107/107 [==============================] - 2s 18ms/step - loss: 0.1223 - accuracy: 0.9366 - val_loss: 0.1953 - val_accuracy: 0.9361\n"
     ]
    }
   ],
   "source": [
    "# Find your best configuration for the DNN\n",
    "batch_size = 5000\n",
    "epochs = 30\n",
    "input_shape = (X.shape[1],)\n",
    "\n",
    "# Build and train DNN\n",
    "model10 = build_DNN(input_shape, 5, 30, act_fun='relu', optimizer='rmsprop', learning_rate=0.05, use_bn=True, use_dropout=False,\n",
    "                   use_custom_dropout=False)\n",
    "\n",
    "history10 = model10.fit(Xtrain, Ytrain, batch_size, epochs, validation_data = (Xval, Yval), class_weight = class_weights)\n"
   ]
  },
  {
   "cell_type": "code",
   "execution_count": 106,
   "metadata": {},
   "outputs": [
    {
     "name": "stdout",
     "output_type": "stream",
     "text": [
      "3582/3582 [==============================] - 4s 1ms/step - loss: 0.1993 - accuracy: 0.9348\n",
      "Test loss: 0.1993\n",
      "Test accuracy: 0.9348\n"
     ]
    }
   ],
   "source": [
    "# Evaluate DNN on test data\n",
    "score = model10.evaluate(Xtest, Ytest)\n",
    "\n",
    "print('Test loss: %.4f' % score[0])\n",
    "print('Test accuracy: %.4f' % score[1])"
   ]
  },
  {
   "cell_type": "markdown",
   "metadata": {},
   "source": [
    "# Part 20: Dropout uncertainty\n",
    "\n",
    "Dropout can also be used during testing, to obtain an estimate of the model uncertainty. Since dropout will randomly remove connections, the network will produce different results every time the same (test) data is put into the network. This technique is called Monte Carlo dropout. For more information, see this paper http://proceedings.mlr.press/v48/gal16.pdf\n",
    "\n",
    "To achieve this, we need to redefine the Keras Dropout call by running the cell below, and use 'myDropout' in each call to Dropout, in the cell that defines the DNN. The `build_DNN` function takes two boolean arguments, use_dropout and use_custom_dropout, add a standard Dropout layer if use_dropout is true, add a myDropout layer if use_custom_dropout is true.\n",
    "\n",
    "Run the same test data through the trained network 100 times, with dropout turned on. \n",
    "\n",
    "Question 18: What is the mean and the standard deviation of the test accuracy?"
   ]
  },
  {
   "cell_type": "code",
   "execution_count": 107,
   "metadata": {},
   "outputs": [],
   "source": [
    "import keras.backend as K\n",
    "import keras\n",
    "\n",
    "class myDropout(keras.layers.Dropout):\n",
    "    \"\"\"Applies Dropout to the input.\n",
    "    Dropout consists in randomly setting\n",
    "    a fraction `rate` of input units to 0 at each update during training time,\n",
    "    which helps prevent overfitting.\n",
    "    # Arguments\n",
    "        rate: float between 0 and 1. Fraction of the input units to drop.\n",
    "        noise_shape: 1D integer tensor representing the shape of the\n",
    "            binary dropout mask that will be multiplied with the input.\n",
    "            For instance, if your inputs have shape\n",
    "            `(batch_size, timesteps, features)` and\n",
    "            you want the dropout mask to be the same for all timesteps,\n",
    "            you can use `noise_shape=(batch_size, 1, features)`.\n",
    "        seed: A Python integer to use as random seed.\n",
    "    # References\n",
    "        - [Dropout: A Simple Way to Prevent Neural Networks from Overfitting](\n",
    "           http://www.jmlr.org/papers/volume15/srivastava14a/srivastava14a.pdf)\n",
    "    \"\"\"\n",
    "    def __init__(self, rate, training=True, noise_shape=None, seed=None, **kwargs):\n",
    "        super(myDropout, self).__init__(rate, noise_shape=None, seed=None,**kwargs)\n",
    "        self.training = training\n",
    "\n",
    "        \n",
    "    def call(self, inputs, training=None):\n",
    "        if 0. < self.rate < 1.:\n",
    "            noise_shape = self._get_noise_shape(inputs)\n",
    "\n",
    "            def dropped_inputs():\n",
    "                return K.dropout(inputs, self.rate, noise_shape,\n",
    "                                 seed=self.seed)\n",
    "            if not training: \n",
    "                return K.in_train_phase(dropped_inputs, inputs, training=self.training)\n",
    "            return K.in_train_phase(dropped_inputs, inputs, training=training)\n",
    "        return inputs"
   ]
  },
  {
   "cell_type": "markdown",
   "metadata": {},
   "source": [
    "### Your best config, custom dropout"
   ]
  },
  {
   "cell_type": "code",
   "execution_count": 109,
   "metadata": {
    "scrolled": true
   },
   "outputs": [
    {
     "name": "stdout",
     "output_type": "stream",
     "text": [
      "Epoch 1/30\n",
      "107/107 [==============================] - 5s 26ms/step - loss: 0.2476 - accuracy: 0.8871 - val_loss: 0.6800 - val_accuracy: 0.9026\n",
      "Epoch 2/30\n",
      "107/107 [==============================] - 3s 24ms/step - loss: 0.2025 - accuracy: 0.9040 - val_loss: 0.9207 - val_accuracy: 0.5898\n",
      "Epoch 3/30\n",
      "107/107 [==============================] - 3s 24ms/step - loss: 0.1979 - accuracy: 0.9063 - val_loss: 0.2917 - val_accuracy: 0.9034\n",
      "Epoch 4/30\n",
      "107/107 [==============================] - 3s 24ms/step - loss: 0.1976 - accuracy: 0.9060 - val_loss: 0.2110 - val_accuracy: 0.9084\n",
      "Epoch 5/30\n",
      "107/107 [==============================] - 3s 25ms/step - loss: 0.1944 - accuracy: 0.9072 - val_loss: 0.2096 - val_accuracy: 0.9084\n",
      "Epoch 6/30\n",
      "107/107 [==============================] - 3s 26ms/step - loss: 0.1945 - accuracy: 0.9069 - val_loss: 0.2053 - val_accuracy: 0.9081\n",
      "Epoch 7/30\n",
      "107/107 [==============================] - 3s 25ms/step - loss: 0.1943 - accuracy: 0.9071 - val_loss: 0.1898 - val_accuracy: 0.9079\n",
      "Epoch 8/30\n",
      "107/107 [==============================] - 3s 25ms/step - loss: 0.1935 - accuracy: 0.9072 - val_loss: 0.2202 - val_accuracy: 0.9083\n",
      "Epoch 9/30\n",
      "107/107 [==============================] - 3s 27ms/step - loss: 0.1931 - accuracy: 0.9074 - val_loss: 0.2643 - val_accuracy: 0.9078\n",
      "Epoch 10/30\n",
      "107/107 [==============================] - 3s 25ms/step - loss: 0.1924 - accuracy: 0.9076 - val_loss: 0.3041 - val_accuracy: 0.9079\n",
      "Epoch 11/30\n",
      "107/107 [==============================] - 3s 26ms/step - loss: 0.1940 - accuracy: 0.9070 - val_loss: 0.2292 - val_accuracy: 0.9033\n",
      "Epoch 12/30\n",
      "107/107 [==============================] - 3s 26ms/step - loss: 0.1933 - accuracy: 0.9073 - val_loss: 0.2743 - val_accuracy: 0.9081\n",
      "Epoch 13/30\n",
      "107/107 [==============================] - 3s 26ms/step - loss: 0.1971 - accuracy: 0.9070 - val_loss: 0.2236 - val_accuracy: 0.9064\n",
      "Epoch 14/30\n",
      "107/107 [==============================] - 3s 24ms/step - loss: 0.1923 - accuracy: 0.9078 - val_loss: 0.1981 - val_accuracy: 0.9093\n",
      "Epoch 15/30\n",
      "107/107 [==============================] - 3s 24ms/step - loss: 0.1979 - accuracy: 0.9071 - val_loss: 0.2199 - val_accuracy: 0.9088\n",
      "Epoch 16/30\n",
      "107/107 [==============================] - 3s 24ms/step - loss: 0.1914 - accuracy: 0.9081 - val_loss: 0.2086 - val_accuracy: 0.9030\n",
      "Epoch 17/30\n",
      "107/107 [==============================] - 3s 24ms/step - loss: 0.1939 - accuracy: 0.9077 - val_loss: 0.1926 - val_accuracy: 0.9074\n",
      "Epoch 18/30\n",
      "107/107 [==============================] - 3s 24ms/step - loss: 0.1927 - accuracy: 0.9078 - val_loss: 0.2085 - val_accuracy: 0.9084\n",
      "Epoch 19/30\n",
      "107/107 [==============================] - 3s 25ms/step - loss: 0.1933 - accuracy: 0.9077 - val_loss: 0.2223 - val_accuracy: 0.9091\n",
      "Epoch 20/30\n",
      "107/107 [==============================] - 3s 25ms/step - loss: 0.1975 - accuracy: 0.9079 - val_loss: 0.2473 - val_accuracy: 0.9008\n",
      "Epoch 21/30\n",
      "107/107 [==============================] - 3s 25ms/step - loss: 0.1909 - accuracy: 0.9079 - val_loss: 0.2251 - val_accuracy: 0.9088\n",
      "Epoch 22/30\n",
      "107/107 [==============================] - 3s 26ms/step - loss: 0.1951 - accuracy: 0.9076 - val_loss: 0.2472 - val_accuracy: 0.9090\n",
      "Epoch 23/30\n",
      "107/107 [==============================] - 3s 26ms/step - loss: 0.1925 - accuracy: 0.9077 - val_loss: 0.2046 - val_accuracy: 0.9080\n",
      "Epoch 24/30\n",
      "107/107 [==============================] - 3s 25ms/step - loss: 0.1916 - accuracy: 0.9078 - val_loss: 0.2214 - val_accuracy: 0.8982\n",
      "Epoch 25/30\n",
      "107/107 [==============================] - 3s 25ms/step - loss: 0.1902 - accuracy: 0.9079 - val_loss: 0.2391 - val_accuracy: 0.9082\n",
      "Epoch 26/30\n",
      "107/107 [==============================] - 3s 25ms/step - loss: 0.1915 - accuracy: 0.9079 - val_loss: 0.2000 - val_accuracy: 0.9090\n",
      "Epoch 27/30\n",
      "107/107 [==============================] - 3s 25ms/step - loss: 0.1931 - accuracy: 0.9072 - val_loss: 0.2543 - val_accuracy: 0.9094\n",
      "Epoch 28/30\n",
      "107/107 [==============================] - 3s 25ms/step - loss: 0.1995 - accuracy: 0.9070 - val_loss: 0.2268 - val_accuracy: 0.9087\n",
      "Epoch 29/30\n",
      "107/107 [==============================] - 3s 25ms/step - loss: 0.1886 - accuracy: 0.9089 - val_loss: 0.2240 - val_accuracy: 0.9055\n",
      "Epoch 30/30\n",
      "107/107 [==============================] - 3s 25ms/step - loss: 0.1890 - accuracy: 0.9081 - val_loss: 0.2656 - val_accuracy: 0.9086\n"
     ]
    }
   ],
   "source": [
    "# Your best training parameters\n",
    "batch_size = 5000\n",
    "epochs = 30\n",
    "input_shape = (X.shape[1],)\n",
    "\n",
    "# Build and train model\n",
    "model11 = build_DNN(input_shape, 5, 30, act_fun='relu', optimizer='rmsprop', learning_rate=0.05, use_bn=True, use_dropout=False,\n",
    "                   use_custom_dropout=True)\n",
    "\n",
    "history11 = model11.fit(Xtrain, Ytrain, batch_size, epochs, validation_data = (Xval, Yval), class_weight = class_weights)"
   ]
  },
  {
   "cell_type": "code",
   "execution_count": 115,
   "metadata": {},
   "outputs": [
    {
     "name": "stdout",
     "output_type": "stream",
     "text": [
      "3582/3582 [==============================] - 5s 1ms/step - loss: 0.2697 - accuracy: 0.9076\n",
      "Test accuracy: 0.9076\n"
     ]
    }
   ],
   "source": [
    "# Run this cell a few times to evalute the model on test data, \n",
    "# if you get slightly different test accuracy every time, Dropout during testing is working\n",
    "\n",
    "# Evaluate model on test data\n",
    "score = model11.evaluate(Xtest, Ytest)\n",
    "                       \n",
    "print('Test accuracy: %.4f' % score[1])"
   ]
  },
  {
   "cell_type": "code",
   "execution_count": 123,
   "metadata": {},
   "outputs": [
    {
     "name": "stdout",
     "output_type": "stream",
     "text": [
      "3582/3582 [==============================] - 5s 1ms/step - loss: 0.2682 - accuracy: 0.9081\n",
      "3582/3582 [==============================] - 5s 1ms/step - loss: 0.2688 - accuracy: 0.9081\n",
      "3582/3582 [==============================] - 5s 1ms/step - loss: 0.2689 - accuracy: 0.9080\n",
      "3582/3582 [==============================] - 5s 1ms/step - loss: 0.2694 - accuracy: 0.9075\n",
      "3582/3582 [==============================] - 5s 1ms/step - loss: 0.2695 - accuracy: 0.9077\n",
      "3582/3582 [==============================] - 5s 1ms/step - loss: 0.2681 - accuracy: 0.9079\n",
      "3582/3582 [==============================] - 5s 1ms/step - loss: 0.2686 - accuracy: 0.9077\n",
      "3582/3582 [==============================] - 5s 1ms/step - loss: 0.2685 - accuracy: 0.9078\n",
      "3582/3582 [==============================] - 5s 1ms/step - loss: 0.2692 - accuracy: 0.9076\n",
      "3582/3582 [==============================] - 5s 1ms/step - loss: 0.2695 - accuracy: 0.9075\n",
      "3582/3582 [==============================] - 5s 1ms/step - loss: 0.2679 - accuracy: 0.9077\n",
      "3582/3582 [==============================] - 5s 1ms/step - loss: 0.2687 - accuracy: 0.9077\n",
      "3582/3582 [==============================] - 6s 2ms/step - loss: 0.2687 - accuracy: 0.9080\n",
      "3582/3582 [==============================] - 6s 2ms/step - loss: 0.2684 - accuracy: 0.9081\n",
      "3582/3582 [==============================] - 6s 2ms/step - loss: 0.2679 - accuracy: 0.9079\n",
      "3582/3582 [==============================] - 5s 1ms/step - loss: 0.2690 - accuracy: 0.9077\n",
      "3582/3582 [==============================] - 5s 1ms/step - loss: 0.2689 - accuracy: 0.9077\n",
      "3582/3582 [==============================] - 5s 2ms/step - loss: 0.2684 - accuracy: 0.9078\n",
      "3582/3582 [==============================] - 5s 1ms/step - loss: 0.2684 - accuracy: 0.9078\n",
      "3582/3582 [==============================] - 5s 1ms/step - loss: 0.2679 - accuracy: 0.9077\n",
      "3582/3582 [==============================] - 6s 2ms/step - loss: 0.2676 - accuracy: 0.9080\n",
      "3582/3582 [==============================] - 5s 1ms/step - loss: 0.2695 - accuracy: 0.9074\n",
      "3582/3582 [==============================] - 6s 2ms/step - loss: 0.2691 - accuracy: 0.9070\n",
      "3582/3582 [==============================] - 6s 2ms/step - loss: 0.2700 - accuracy: 0.9077\n",
      "3582/3582 [==============================] - 6s 2ms/step - loss: 0.2689 - accuracy: 0.9080\n",
      "3582/3582 [==============================] - 5s 2ms/step - loss: 0.2693 - accuracy: 0.9079\n",
      "3582/3582 [==============================] - 7s 2ms/step - loss: 0.2682 - accuracy: 0.9077\n",
      "3582/3582 [==============================] - 6s 2ms/step - loss: 0.2689 - accuracy: 0.9080\n",
      "3582/3582 [==============================] - 6s 2ms/step - loss: 0.2692 - accuracy: 0.9077\n",
      "3582/3582 [==============================] - 6s 2ms/step - loss: 0.2682 - accuracy: 0.9078\n",
      "3582/3582 [==============================] - 6s 2ms/step - loss: 0.2689 - accuracy: 0.9075\n",
      "3582/3582 [==============================] - 5s 2ms/step - loss: 0.2676 - accuracy: 0.9078\n",
      "3582/3582 [==============================] - 5s 1ms/step - loss: 0.2708 - accuracy: 0.9072\n",
      "3582/3582 [==============================] - 5s 1ms/step - loss: 0.2688 - accuracy: 0.9076\n",
      "3582/3582 [==============================] - 5s 1ms/step - loss: 0.2685 - accuracy: 0.9082\n",
      "3582/3582 [==============================] - 5s 1ms/step - loss: 0.2678 - accuracy: 0.9080\n",
      "3582/3582 [==============================] - 5s 1ms/step - loss: 0.2690 - accuracy: 0.9078\n",
      "3582/3582 [==============================] - 5s 2ms/step - loss: 0.2690 - accuracy: 0.9075\n",
      "3582/3582 [==============================] - 5s 1ms/step - loss: 0.2682 - accuracy: 0.9078\n",
      "3582/3582 [==============================] - 5s 1ms/step - loss: 0.2699 - accuracy: 0.9075\n",
      "3582/3582 [==============================] - 5s 1ms/step - loss: 0.2678 - accuracy: 0.9078\n",
      "3582/3582 [==============================] - 5s 1ms/step - loss: 0.2700 - accuracy: 0.9074\n",
      "3582/3582 [==============================] - 5s 2ms/step - loss: 0.2708 - accuracy: 0.9074\n",
      "3582/3582 [==============================] - 5s 1ms/step - loss: 0.2686 - accuracy: 0.9082\n",
      "3582/3582 [==============================] - 5s 1ms/step - loss: 0.2681 - accuracy: 0.9078\n",
      "3582/3582 [==============================] - 5s 1ms/step - loss: 0.2685 - accuracy: 0.9079\n",
      "3582/3582 [==============================] - 5s 1ms/step - loss: 0.2683 - accuracy: 0.9079\n",
      "3582/3582 [==============================] - 5s 1ms/step - loss: 0.2683 - accuracy: 0.9079\n",
      "3582/3582 [==============================] - 5s 1ms/step - loss: 0.2685 - accuracy: 0.9080\n",
      "3582/3582 [==============================] - 5s 1ms/step - loss: 0.2696 - accuracy: 0.9074\n",
      "3582/3582 [==============================] - 6s 2ms/step - loss: 0.2684 - accuracy: 0.9080\n",
      "3582/3582 [==============================] - 6s 2ms/step - loss: 0.2696 - accuracy: 0.9074\n",
      "3582/3582 [==============================] - 5s 1ms/step - loss: 0.2684 - accuracy: 0.9080\n",
      "3582/3582 [==============================] - 6s 2ms/step - loss: 0.2695 - accuracy: 0.9076\n",
      "3582/3582 [==============================] - 6s 2ms/step - loss: 0.2683 - accuracy: 0.9076\n",
      "3582/3582 [==============================] - 5s 1ms/step - loss: 0.2693 - accuracy: 0.9078\n",
      "3582/3582 [==============================] - 5s 2ms/step - loss: 0.2692 - accuracy: 0.9079\n",
      "3582/3582 [==============================] - 5s 2ms/step - loss: 0.2695 - accuracy: 0.9075\n",
      "3582/3582 [==============================] - 5s 1ms/step - loss: 0.2685 - accuracy: 0.9079\n",
      "3582/3582 [==============================] - 5s 1ms/step - loss: 0.2686 - accuracy: 0.9076\n",
      "3582/3582 [==============================] - 5s 1ms/step - loss: 0.2689 - accuracy: 0.9079\n",
      "3582/3582 [==============================] - 5s 1ms/step - loss: 0.2691 - accuracy: 0.9074\n",
      "3582/3582 [==============================] - 5s 1ms/step - loss: 0.2695 - accuracy: 0.9073\n",
      "3582/3582 [==============================] - 6s 2ms/step - loss: 0.2693 - accuracy: 0.9075\n",
      "3582/3582 [==============================] - 6s 2ms/step - loss: 0.2681 - accuracy: 0.9079\n",
      "3582/3582 [==============================] - 6s 2ms/step - loss: 0.2680 - accuracy: 0.9079\n",
      "3582/3582 [==============================] - 6s 2ms/step - loss: 0.2693 - accuracy: 0.9080\n",
      "3582/3582 [==============================] - 6s 2ms/step - loss: 0.2692 - accuracy: 0.9079\n",
      "3582/3582 [==============================] - 6s 2ms/step - loss: 0.2691 - accuracy: 0.9075\n",
      "3582/3582 [==============================] - 5s 1ms/step - loss: 0.2694 - accuracy: 0.9078\n",
      "3582/3582 [==============================] - 5s 1ms/step - loss: 0.2693 - accuracy: 0.9074\n",
      "3582/3582 [==============================] - 5s 1ms/step - loss: 0.2695 - accuracy: 0.9074\n",
      "3582/3582 [==============================] - 5s 1ms/step - loss: 0.2681 - accuracy: 0.9079\n",
      "3582/3582 [==============================] - 5s 1ms/step - loss: 0.2696 - accuracy: 0.9071\n",
      "3582/3582 [==============================] - 5s 2ms/step - loss: 0.2684 - accuracy: 0.9078\n",
      "3582/3582 [==============================] - 6s 2ms/step - loss: 0.2694 - accuracy: 0.9077\n",
      "3582/3582 [==============================] - 5s 2ms/step - loss: 0.2689 - accuracy: 0.9077\n",
      "3582/3582 [==============================] - 5s 2ms/step - loss: 0.2683 - accuracy: 0.9079\n",
      "3582/3582 [==============================] - 5s 2ms/step - loss: 0.2674 - accuracy: 0.9081\n",
      "3582/3582 [==============================] - 5s 1ms/step - loss: 0.2686 - accuracy: 0.9080\n",
      "3582/3582 [==============================] - 5s 1ms/step - loss: 0.2697 - accuracy: 0.9076\n",
      "3582/3582 [==============================] - 5s 1ms/step - loss: 0.2688 - accuracy: 0.9079\n",
      "3582/3582 [==============================] - 5s 1ms/step - loss: 0.2691 - accuracy: 0.9079\n",
      "3582/3582 [==============================] - 5s 1ms/step - loss: 0.2705 - accuracy: 0.9075\n",
      "3582/3582 [==============================] - 5s 1ms/step - loss: 0.2680 - accuracy: 0.9081\n",
      "3582/3582 [==============================] - 5s 1ms/step - loss: 0.2682 - accuracy: 0.9079\n",
      "3582/3582 [==============================] - 5s 2ms/step - loss: 0.2686 - accuracy: 0.9078\n",
      "3582/3582 [==============================] - 5s 2ms/step - loss: 0.2676 - accuracy: 0.9081\n",
      "3582/3582 [==============================] - 5s 1ms/step - loss: 0.2693 - accuracy: 0.9075\n",
      "3582/3582 [==============================] - 6s 2ms/step - loss: 0.2694 - accuracy: 0.9077\n",
      "3582/3582 [==============================] - 6s 2ms/step - loss: 0.2698 - accuracy: 0.9075\n",
      "3582/3582 [==============================] - 6s 2ms/step - loss: 0.2683 - accuracy: 0.9078\n",
      "3582/3582 [==============================] - 6s 2ms/step - loss: 0.2679 - accuracy: 0.9079\n",
      "3582/3582 [==============================] - 5s 1ms/step - loss: 0.2686 - accuracy: 0.9075\n",
      "3582/3582 [==============================] - 5s 2ms/step - loss: 0.2675 - accuracy: 0.9079\n",
      "3582/3582 [==============================] - 5s 1ms/step - loss: 0.2685 - accuracy: 0.9076\n",
      "3582/3582 [==============================] - 5s 2ms/step - loss: 0.2688 - accuracy: 0.9076\n",
      "3582/3582 [==============================] - 5s 1ms/step - loss: 0.2688 - accuracy: 0.9077\n",
      "3582/3582 [==============================] - 5s 1ms/step - loss: 0.2683 - accuracy: 0.9078\n",
      "3582/3582 [==============================] - 5s 1ms/step - loss: 0.2681 - accuracy: 0.9076\n",
      "0.907744915485382\n",
      "0.00023779375777612446\n"
     ]
    }
   ],
   "source": [
    "# Run the testing 100 times, and save the accuracies in an array\n",
    "test_scores = np.ndarray(100)\n",
    "for i in range(100) :\n",
    "    test_scores[i] = model11.evaluate(Xtest, Ytest)[1]\n",
    "\n",
    "# Calculate and print mean and std of accuracies\n",
    "print(f\"mean of test accuracy: {np.mean(test_scores)}\")\n",
    "print(f\"standard deviation of test accuracy: {np.std(test_scores)}\")"
   ]
  },
  {
   "cell_type": "code",
   "execution_count": 125,
   "metadata": {},
   "outputs": [
    {
     "name": "stdout",
     "output_type": "stream",
     "text": [
      "mean is : 0.907744915485382\n"
     ]
    }
   ],
   "source": [
    "print(f\"mean is : {np.mean(test_scores)}\", )"
   ]
  },
  {
   "cell_type": "markdown",
   "metadata": {},
   "source": [
    "# Part 21: Cross validation uncertainty\n",
    "\n",
    "Cross validation (CV) is often used to evaluate a model, by training and testing using different subsets of the data it is possible to get the uncertainty as the standard deviation over folds. We here use a help function from scikit-learn to setup the CV, see https://scikit-learn.org/stable/modules/generated/sklearn.model_selection.StratifiedKFold.html . Use 10 folds with shuffling, random state 1234. \n",
    "\n",
    "Note: We here assume that you have found the best hyper parameters, so here the data are only split into training and testing, no validation.\n",
    "\n",
    "---\n",
    "\n",
    "Question 19: What is the mean and the standard deviation of the test accuracy?\n",
    "\n",
    "Question 20: What is the main advantage of dropout compared to CV for estimating test uncertainty? The difference may not be so large in this notebook, but imagine that you have a network that takes 24 hours to train."
   ]
  },
  {
   "cell_type": "code",
   "execution_count": 132,
   "metadata": {},
   "outputs": [
    {
     "ename": "ValueError",
     "evalue": "The truth value of an array with more than one element is ambiguous. Use a.any() or a.all()",
     "output_type": "error",
     "traceback": [
      "\u001b[1;31m---------------------------------------------------------------------------\u001b[0m",
      "\u001b[1;31mValueError\u001b[0m                                Traceback (most recent call last)",
      "Input \u001b[1;32mIn [132]\u001b[0m, in \u001b[0;36m<cell line: 8>\u001b[1;34m()\u001b[0m\n\u001b[0;32m     14\u001b[0m CVmodel \u001b[38;5;241m=\u001b[39m build_DNN(input_shape, \u001b[38;5;241m5\u001b[39m, \u001b[38;5;241m30\u001b[39m, act_fun\u001b[38;5;241m=\u001b[39m\u001b[38;5;124m'\u001b[39m\u001b[38;5;124mrelu\u001b[39m\u001b[38;5;124m'\u001b[39m, optimizer\u001b[38;5;241m=\u001b[39m\u001b[38;5;124m'\u001b[39m\u001b[38;5;124mrmsprop\u001b[39m\u001b[38;5;124m'\u001b[39m, learning_rate\u001b[38;5;241m=\u001b[39m\u001b[38;5;241m0.05\u001b[39m, use_bn\u001b[38;5;241m=\u001b[39m\u001b[38;5;28;01mTrue\u001b[39;00m, use_dropout\u001b[38;5;241m=\u001b[39m\u001b[38;5;28;01mFalse\u001b[39;00m,\n\u001b[0;32m     15\u001b[0m                use_custom_dropout\u001b[38;5;241m=\u001b[39m\u001b[38;5;28;01mFalse\u001b[39;00m)\n\u001b[0;32m     16\u001b[0m \u001b[38;5;66;03m# Fit the model with training set and class weights for this fold\u001b[39;00m\n\u001b[1;32m---> 17\u001b[0m \u001b[43mCVmodel\u001b[49m\u001b[38;5;241;43m.\u001b[39;49m\u001b[43mfit\u001b[49m\u001b[43m(\u001b[49m\u001b[43mX_train\u001b[49m\u001b[43m,\u001b[49m\u001b[43m \u001b[49m\u001b[43mY_train\u001b[49m\u001b[43m,\u001b[49m\u001b[43m \u001b[49m\u001b[43mbatch_size\u001b[49m\u001b[43m,\u001b[49m\u001b[43m \u001b[49m\u001b[43mepochs\u001b[49m\u001b[43m,\u001b[49m\u001b[43m \u001b[49m\u001b[43mclass_weight\u001b[49m\u001b[43m \u001b[49m\u001b[38;5;241;43m=\u001b[39;49m\u001b[43m \u001b[49m\u001b[43mclass_weights\u001b[49m\u001b[43m)\u001b[49m\n\u001b[0;32m     18\u001b[0m \u001b[38;5;66;03m# Evaluate the model using the test set for this fold\u001b[39;00m\n\u001b[0;32m     19\u001b[0m score \u001b[38;5;241m=\u001b[39m CVmodel\u001b[38;5;241m.\u001b[39mevaluate(X_test, Y_test)\n",
      "File \u001b[1;32m~\\anaconda3\\envs\\deep_learning\\lib\\site-packages\\keras\\utils\\traceback_utils.py:67\u001b[0m, in \u001b[0;36mfilter_traceback.<locals>.error_handler\u001b[1;34m(*args, **kwargs)\u001b[0m\n\u001b[0;32m     65\u001b[0m \u001b[38;5;28;01mexcept\u001b[39;00m \u001b[38;5;167;01mException\u001b[39;00m \u001b[38;5;28;01mas\u001b[39;00m e:  \u001b[38;5;66;03m# pylint: disable=broad-except\u001b[39;00m\n\u001b[0;32m     66\u001b[0m   filtered_tb \u001b[38;5;241m=\u001b[39m _process_traceback_frames(e\u001b[38;5;241m.\u001b[39m__traceback__)\n\u001b[1;32m---> 67\u001b[0m   \u001b[38;5;28;01mraise\u001b[39;00m e\u001b[38;5;241m.\u001b[39mwith_traceback(filtered_tb) \u001b[38;5;28;01mfrom\u001b[39;00m \u001b[38;5;28mNone\u001b[39m\n\u001b[0;32m     68\u001b[0m \u001b[38;5;28;01mfinally\u001b[39;00m:\n\u001b[0;32m     69\u001b[0m   \u001b[38;5;28;01mdel\u001b[39;00m filtered_tb\n",
      "File \u001b[1;32m~\\anaconda3\\envs\\deep_learning\\lib\\site-packages\\keras\\engine\\data_adapter.py:1177\u001b[0m, in \u001b[0;36mDataHandler._configure_dataset_and_inferred_steps\u001b[1;34m(***failed resolving arguments***)\u001b[0m\n\u001b[0;32m   1175\u001b[0m \u001b[38;5;28;01mdel\u001b[39;00m x\n\u001b[0;32m   1176\u001b[0m dataset \u001b[38;5;241m=\u001b[39m \u001b[38;5;28mself\u001b[39m\u001b[38;5;241m.\u001b[39m_adapter\u001b[38;5;241m.\u001b[39mget_dataset()\n\u001b[1;32m-> 1177\u001b[0m \u001b[38;5;28;01mif\u001b[39;00m class_weight:\n\u001b[0;32m   1178\u001b[0m   dataset \u001b[38;5;241m=\u001b[39m dataset\u001b[38;5;241m.\u001b[39mmap(_make_class_weight_map_fn(class_weight))\n\u001b[0;32m   1179\u001b[0m \u001b[38;5;28mself\u001b[39m\u001b[38;5;241m.\u001b[39m_inferred_steps \u001b[38;5;241m=\u001b[39m \u001b[38;5;28mself\u001b[39m\u001b[38;5;241m.\u001b[39m_infer_steps(steps_per_epoch, dataset)\n",
      "\u001b[1;31mValueError\u001b[0m: The truth value of an array with more than one element is ambiguous. Use a.any() or a.all()"
     ]
    }
   ],
   "source": [
    "from sklearn.model_selection import StratifiedKFold\n",
    "\n",
    "test_accuracy = np.ndarray(10)\n",
    "# Define 10-fold cross validation\n",
    "skf = StratifiedKFold(n_splits = 10, shuffle = True, random_state = 1234)\n",
    "\n",
    "# Loop over cross validation folds\n",
    "for train_index, test_index in skf.split(X, Y) :\n",
    "    X_train, X_test = X[train_index], X[test_index]\n",
    "    Y_train, Y_test = Y[train_index], Y[test_index]\n",
    "    # Calculate class weights for current split\n",
    "    class_weights = class_weight.compute_class_weight(class_weight = \"balanced\", classes = np.unique(Y_train), y = Y_train)\n",
    "    # Rebuild the DNN model, to not continue training on the previously trained model\n",
    "    CVmodel = build_DNN(input_shape, 5, 30, act_fun='relu', optimizer='rmsprop', learning_rate=0.05, use_bn=True, use_dropout=False,\n",
    "                   use_custom_dropout=False)\n",
    "    # Fit the model with training set and class weights for this fold\n",
    "    CVmodel.fit(X_train, Y_train, batch_size, epochs, class_weight = class_weights)\n",
    "    # Evaluate the model using the test set for this fold\n",
    "    score = CVmodel.evaluate(X_test, Y_test)\n",
    "    # Save the test accuracy in an array\n",
    "    np.append(test_accuracy, score)\n",
    "# Calculate and print mean and std of accuracies\n",
    "print(f\"mean of test accuracy: {np.mean(test_accuracy)}\")\n",
    "print(f\"standard deviation of test accuracy: {np.std(test_accuracy)}\")"
   ]
  },
  {
   "cell_type": "code",
   "execution_count": 128,
   "metadata": {},
   "outputs": [
    {
     "data": {
      "text/plain": [
       "'\\nQ19.\\n\\nQ20. Advantage of using dropout for estimating test uncertainty is that we do not need to retrain the model every time for calculating the test\\naccuracy. In contrast, using CV we need to train the model on every iteration of CV, which will take a long time, especially if the number of folds is\\nlarge, or the model takes a long time to train.\\n'"
      ]
     },
     "execution_count": 128,
     "metadata": {},
     "output_type": "execute_result"
    }
   ],
   "source": [
    "\"\"\"\n",
    "Q19.\n",
    "\n",
    "Q20. Advantage of using dropout for estimating test uncertainty is that we do not need to retrain the model every time for calculating the test\n",
    "accuracy. In contrast, using CV we need to train the model on every iteration of CV, which will take a long time, especially if the number of folds is\n",
    "large, or the model takes a long time to train.\n",
    "\"\"\""
   ]
  },
  {
   "cell_type": "markdown",
   "metadata": {},
   "source": [
    "# Part 22: DNN regression\n",
    "\n",
    "A similar DNN can be used for regression, instead of classification.\n",
    "\n",
    "Question 21: How would you change the DNN in order to use it for regression instead?"
   ]
  },
  {
   "cell_type": "markdown",
   "metadata": {},
   "source": [
    "## Report\n",
    "\n",
    "Send in this jupyter notebook, with answers to all questions."
   ]
  }
 ],
 "metadata": {
  "kernelspec": {
   "display_name": "Python 3 (ipykernel)",
   "language": "python",
   "name": "python3"
  },
  "language_info": {
   "codemirror_mode": {
    "name": "ipython",
    "version": 3
   },
   "file_extension": ".py",
   "mimetype": "text/x-python",
   "name": "python",
   "nbconvert_exporter": "python",
   "pygments_lexer": "ipython3",
   "version": "3.9.12"
  }
 },
 "nbformat": 4,
 "nbformat_minor": 4
}
